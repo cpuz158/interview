{
 "cells": [
  {
   "cell_type": "markdown",
   "metadata": {},
   "source": [
    "BFS (Breadth First Search)\n",
    "--\n",
    "1. Edge : Line\n",
    "2. Vertex : Point\n",
    "3. BFS uses **Queue**\n",
    "4. Required to use : Visited: list(), Queue: list()\n",
    "    1. Enqueue to Queue\n",
    "    2. Add to Visited\n",
    "    3. Dequeue from Queue (Because we visited it just now B.)\n",
    "    4. Back to 1. and repeat all again\n",
    "5. Time Complexity : $O(n)$\n",
    "\n",
    "[1] https://www.youtube.com/watch?v=uWL6FJhq5fM\n",
    "\n",
    "[2] https://www.geeksforgeeks.org/breadth-first-search-or-bfs-for-a-graph/"
   ]
  },
  {
   "cell_type": "markdown",
   "metadata": {},
   "source": [
    "BFS For bidirected graph, non-binary tree, binary-tree\n",
    "--"
   ]
  },
  {
   "cell_type": "code",
   "execution_count": 28,
   "metadata": {},
   "outputs": [],
   "source": [
    "from collections import defaultdict\n",
    "\n",
    "class Graph:\n",
    "    def __init__(self):\n",
    "        self.graph = defaultdict(list)\n",
    "    \n",
    "    def add_edge(self, v_from, v_to):\n",
    "        self.graph[v_from].append(v_to)\n",
    "    \n",
    "    def bfs(self, v_start):\n",
    "        queue = []\n",
    "        visited = []\n",
    "        \n",
    "        queue.append(v_start)\n",
    "        print(f'queue: {queue}')\n",
    "        while queue:\n",
    "            v_visited = queue.pop(0)\n",
    "            if v_visited not in visited:\n",
    "                visited.append(v_visited)\n",
    "                print(f'visited: {v_visited}')\n",
    "                v = v_visited\n",
    "            for v_next in self.graph[v]:\n",
    "                if v_next not in set(queue + visited):\n",
    "                    queue.append(v_next)\n",
    "                    print(f'queue: {queue}')\n",
    "        print(f'visited: {visited}')"
   ]
  },
  {
   "cell_type": "code",
   "execution_count": 29,
   "metadata": {},
   "outputs": [],
   "source": [
    "# Bidirected Graph\n",
    "g = Graph()\n",
    "g.add_edge(0, 1)\n",
    "g.add_edge(0, 2)\n",
    "g.add_edge(1, 2)\n",
    "g.add_edge(2, 0)\n",
    "g.add_edge(2, 3)\n",
    "g.add_edge(3, 3)"
   ]
  },
  {
   "cell_type": "code",
   "execution_count": 30,
   "metadata": {},
   "outputs": [
    {
     "name": "stdout",
     "output_type": "stream",
     "text": [
      "queue: [2]\n",
      "visited: 2\n",
      "queue: [0]\n",
      "queue: [0, 3]\n",
      "visited: 0\n",
      "queue: [3, 1]\n",
      "visited: 3\n",
      "visited: 1\n",
      "visited: [2, 0, 3, 1]\n"
     ]
    }
   ],
   "source": [
    "g.bfs(2)"
   ]
  },
  {
   "cell_type": "code",
   "execution_count": 31,
   "metadata": {},
   "outputs": [],
   "source": [
    "# Non-binary Tree\n",
    "g = Graph()\n",
    "g.add_edge('a', 'b')\n",
    "g.add_edge('a', 'c')\n",
    "g.add_edge('a', 'd')\n",
    "g.add_edge('b', 'e')\n",
    "g.add_edge('b', 'f')\n",
    "g.add_edge('b', 'g')\n",
    "g.add_edge('c', 'h')\n",
    "g.add_edge('d', 'i')\n",
    "g.add_edge('e', 'j')\n",
    "g.add_edge('f', 'j')\n",
    "g.add_edge('g', 'j')\n",
    "g.add_edge('h', 'k')\n",
    "g.add_edge('i', 'l')"
   ]
  },
  {
   "cell_type": "code",
   "execution_count": 32,
   "metadata": {},
   "outputs": [
    {
     "name": "stdout",
     "output_type": "stream",
     "text": [
      "queue: ['a']\n",
      "visited: a\n",
      "queue: ['b']\n",
      "queue: ['b', 'c']\n",
      "queue: ['b', 'c', 'd']\n",
      "visited: b\n",
      "queue: ['c', 'd', 'e']\n",
      "queue: ['c', 'd', 'e', 'f']\n",
      "queue: ['c', 'd', 'e', 'f', 'g']\n",
      "visited: c\n",
      "queue: ['d', 'e', 'f', 'g', 'h']\n",
      "visited: d\n",
      "queue: ['e', 'f', 'g', 'h', 'i']\n",
      "visited: e\n",
      "queue: ['f', 'g', 'h', 'i', 'j']\n",
      "visited: f\n",
      "visited: g\n",
      "visited: h\n",
      "queue: ['i', 'j', 'k']\n",
      "visited: i\n",
      "queue: ['j', 'k', 'l']\n",
      "visited: j\n",
      "visited: k\n",
      "visited: l\n",
      "visited: ['a', 'b', 'c', 'd', 'e', 'f', 'g', 'h', 'i', 'j', 'k', 'l']\n"
     ]
    }
   ],
   "source": [
    "g.bfs('a')"
   ]
  },
  {
   "cell_type": "code",
   "execution_count": 33,
   "metadata": {},
   "outputs": [],
   "source": [
    "# Binary Tree\n",
    "g = Graph()\n",
    "g.add_edge('a', 'b')\n",
    "g.add_edge('a', 'c')\n",
    "g.add_edge('b', 'd')\n",
    "g.add_edge('b', 'e')\n",
    "g.add_edge('d', 'h')\n",
    "g.add_edge('e', 'i')\n",
    "g.add_edge('e', 'j')\n",
    "g.add_edge('c', 'f')\n",
    "g.add_edge('c', 'g')\n",
    "g.add_edge('g', 'k')"
   ]
  },
  {
   "cell_type": "code",
   "execution_count": 34,
   "metadata": {},
   "outputs": [
    {
     "name": "stdout",
     "output_type": "stream",
     "text": [
      "queue: ['a']\n",
      "visited: a\n",
      "queue: ['b']\n",
      "queue: ['b', 'c']\n",
      "visited: b\n",
      "queue: ['c', 'd']\n",
      "queue: ['c', 'd', 'e']\n",
      "visited: c\n",
      "queue: ['d', 'e', 'f']\n",
      "queue: ['d', 'e', 'f', 'g']\n",
      "visited: d\n",
      "queue: ['e', 'f', 'g', 'h']\n",
      "visited: e\n",
      "queue: ['f', 'g', 'h', 'i']\n",
      "queue: ['f', 'g', 'h', 'i', 'j']\n",
      "visited: f\n",
      "visited: g\n",
      "queue: ['h', 'i', 'j', 'k']\n",
      "visited: h\n",
      "visited: i\n",
      "visited: j\n",
      "visited: k\n",
      "visited: ['a', 'b', 'c', 'd', 'e', 'f', 'g', 'h', 'i', 'j', 'k']\n"
     ]
    }
   ],
   "source": [
    "g.bfs('a')"
   ]
  },
  {
   "cell_type": "markdown",
   "metadata": {},
   "source": [
    "Practice\n",
    "--"
   ]
  },
  {
   "cell_type": "code",
   "execution_count": 35,
   "metadata": {},
   "outputs": [],
   "source": [
    "from collections import defaultdict\n",
    "\n",
    "class Graph:\n",
    "    def __init__(self):\n",
    "        self.graph = defaultdict(list)\n",
    "    \n",
    "    def add_edge(self, v_from, v_to):\n",
    "        self.graph[v_from].append(v_to)\n",
    "    \n",
    "    def bfs(self, v_start):\n",
    "        queue = []\n",
    "        visited = []\n",
    "        \n",
    "        queue.append(v_start)\n",
    "        print(f'queue: {queue}')\n",
    "        while queue:\n",
    "            v_visited = queue.pop(0)\n",
    "            if v_visited not in visited:\n",
    "                visited.append(v_visited)\n",
    "                print(f'visited: {v_visited}')\n",
    "                v = v_visited\n",
    "            for v_next in self.graph[v]:\n",
    "                if v_next not in set(queue + visited):\n",
    "                    queue.append(v_next)\n",
    "                    print(f'queue: {queue}')\n",
    "        print(f'visited: {visited}')"
   ]
  },
  {
   "cell_type": "code",
   "execution_count": 36,
   "metadata": {},
   "outputs": [
    {
     "name": "stdout",
     "output_type": "stream",
     "text": [
      "queue: ['a']\n",
      "visited: a\n",
      "queue: ['b']\n",
      "queue: ['b', 'c']\n",
      "visited: b\n",
      "queue: ['c', 'd']\n",
      "queue: ['c', 'd', 'e']\n",
      "visited: c\n",
      "queue: ['d', 'e', 'f']\n",
      "queue: ['d', 'e', 'f', 'g']\n",
      "visited: d\n",
      "queue: ['e', 'f', 'g', 'h']\n",
      "visited: e\n",
      "queue: ['f', 'g', 'h', 'i']\n",
      "queue: ['f', 'g', 'h', 'i', 'j']\n",
      "visited: f\n",
      "visited: g\n",
      "queue: ['h', 'i', 'j', 'k']\n",
      "visited: h\n",
      "visited: i\n",
      "visited: j\n",
      "visited: k\n",
      "visited: ['a', 'b', 'c', 'd', 'e', 'f', 'g', 'h', 'i', 'j', 'k']\n"
     ]
    }
   ],
   "source": [
    "g = Graph()\n",
    "g.add_edge('a', 'b')\n",
    "g.add_edge('a', 'c')\n",
    "g.add_edge('b', 'd')\n",
    "g.add_edge('b', 'e')\n",
    "g.add_edge('d', 'h')\n",
    "g.add_edge('e', 'i')\n",
    "g.add_edge('e', 'j')\n",
    "g.add_edge('c', 'f')\n",
    "g.add_edge('c', 'g')\n",
    "g.add_edge('g', 'k')\n",
    "\n",
    "g.bfs('a')"
   ]
  },
  {
   "cell_type": "code",
   "execution_count": null,
   "metadata": {},
   "outputs": [],
   "source": []
  }
 ],
 "metadata": {
  "kernelspec": {
   "display_name": "Python 3",
   "language": "python",
   "name": "python3"
  },
  "language_info": {
   "codemirror_mode": {
    "name": "ipython",
    "version": 3
   },
   "file_extension": ".py",
   "mimetype": "text/x-python",
   "name": "python",
   "nbconvert_exporter": "python",
   "pygments_lexer": "ipython3",
   "version": "3.7.3"
  }
 },
 "nbformat": 4,
 "nbformat_minor": 2
}
