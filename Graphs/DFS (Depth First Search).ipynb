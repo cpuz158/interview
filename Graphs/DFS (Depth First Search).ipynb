{
 "cells": [
  {
   "cell_type": "markdown",
   "metadata": {},
   "source": [
    "DFS (Depth First Search)\n",
    "--\n",
    "1. Edge : Line\n",
    "2. Vertex : Point\n",
    "3. DFS uses **Stack**\n",
    "4. Required to use : visited: list(), stack: list()\n",
    "5. Time Complexity : $O(n)$\n",
    "6. Traverse\n",
    "    1. inorder (DFS: left, self, right)\n",
    "    2. postorder (DFS: left, right, self)\n",
    "    3. preorder (DFS: self, left, right)\n",
    "\n",
    "[1] https://www.youtube.com/watch?v=uWL6FJhq5fM\n",
    "\n",
    "[2] https://www.geeksforgeeks.org/depth-first-search-or-dfs-for-a-graph/\n",
    "\n",
    "[3] https://www.koderdojo.com/blog/depth-first-search-in-python-recursive-and-non-recursive-programming"
   ]
  },
  {
   "cell_type": "markdown",
   "metadata": {},
   "source": [
    "DFS by recursive calling for graph(bidirected), tree(binary, non-binary)\n",
    "--"
   ]
  },
  {
   "cell_type": "code",
   "execution_count": 25,
   "metadata": {},
   "outputs": [],
   "source": [
    "from collections import defaultdict\n",
    "\n",
    "class Graph:\n",
    "    def __init__(self):\n",
    "        self.graph = defaultdict(list)\n",
    "    \n",
    "    def add_edge(self, v_from, v_to):\n",
    "        self.graph[v_from].append(v_to)\n",
    "    \n",
    "    def dfs_inorder(self, v_start):  # left, self, right\n",
    "        def traverse(v, stack=[], visited=[]):\n",
    "            stack.append(v)\n",
    "            print(f'stack: {stack}')\n",
    "            for v_next in self.graph[v]:\n",
    "                if v_next not in stack + visited:\n",
    "                    traverse(v_next, stack, visited)\n",
    "                if v not in visited:\n",
    "                    visited.append(stack.pop())\n",
    "                    print(f'visited: {visited[-1]}')\n",
    "            if v not in visited:\n",
    "                visited.append(stack.pop())\n",
    "                print(f'visited: {visited[-1]}')\n",
    "            return visited\n",
    "        \n",
    "        print(f'visited: {traverse(v_start)}')\n",
    "    \n",
    "    def dfs_postorder(self, v_start):  # left, right, self\n",
    "        def traverse(v, stack=[], visited=[]):\n",
    "            stack.append(v)\n",
    "            print(f'stack: {stack}')\n",
    "            for v_next in self.graph[v]:\n",
    "                if v_next not in stack + visited:\n",
    "                    traverse(v_next, stack, visited)\n",
    "            if v not in visited:\n",
    "                visited.append(stack.pop())\n",
    "                print(f'visited: {visited[-1]}')\n",
    "            return visited\n",
    "        \n",
    "        print(f'visited: {traverse(v_start)}')\n",
    "    \n",
    "    def dfs_preorder(self, v_start):  # self, left, right\n",
    "        def traverse(v, visited=[]):\n",
    "            visited.append(v)\n",
    "            print(f'visited: {visited[-1]}')\n",
    "            for v_next in self.graph[v]:\n",
    "                if v_next not in visited:\n",
    "                    traverse(v_next, visited)\n",
    "            return visited\n",
    "        \n",
    "        print(f'visited: {traverse(v_start)}')\n"
   ]
  },
  {
   "cell_type": "markdown",
   "metadata": {},
   "source": [
    "DFS by non-recursive calling for graph(bidirected), tree(binary, non-binary)\n",
    "--"
   ]
  },
  {
   "cell_type": "code",
   "execution_count": 86,
   "metadata": {},
   "outputs": [],
   "source": [
    "from collections import defaultdict\n",
    "\n",
    "class Graph:\n",
    "    def __init__(self):\n",
    "        self.graph = defaultdict(list)\n",
    "    \n",
    "    def add_edge(self, v_from, v_to):\n",
    "        self.graph[v_from].append(v_to)\n",
    "    \n",
    "    def dfs_inorder(self, v_start):  # left, self, right\n",
    "        pass\n",
    "    \n",
    "    def dfs_postorder(self, v_start):  # left, right, self\n",
    "        pass\n",
    "    \n",
    "    def dfs_preorder(self, v_start):  # self, left, right\n",
    "        stack = [v_start]\n",
    "        visited = []\n",
    "        \n",
    "        print(f'stack: {stack}')\n",
    "        while stack:\n",
    "            v = stack.pop()\n",
    "            print(f'stack: {stack}')\n",
    "            visited.append(v)\n",
    "            print(f'visited: {visited[-1]}')\n",
    "            for v_next in self.graph[v][::-1]:\n",
    "                if v_next not in visited:\n",
    "                    stack.append(v_next)\n",
    "                    print(f'stack: {stack}')\n",
    "        \n",
    "        print(f'visited: {visited}')\n"
   ]
  },
  {
   "cell_type": "code",
   "execution_count": 87,
   "metadata": {},
   "outputs": [],
   "source": [
    "# Bidirected Graph\n",
    "g = Graph()\n",
    "g.add_edge(0, 1)\n",
    "g.add_edge(0, 2)\n",
    "g.add_edge(1, 2)\n",
    "g.add_edge(2, 0)\n",
    "g.add_edge(2, 3)\n",
    "g.add_edge(3, 3)"
   ]
  },
  {
   "cell_type": "code",
   "execution_count": 88,
   "metadata": {},
   "outputs": [
    {
     "name": "stdout",
     "output_type": "stream",
     "text": [
      "------inorder\n"
     ]
    }
   ],
   "source": [
    "print('------inorder')\n",
    "g.dfs_inorder(2)"
   ]
  },
  {
   "cell_type": "code",
   "execution_count": 89,
   "metadata": {},
   "outputs": [
    {
     "name": "stdout",
     "output_type": "stream",
     "text": [
      "------postorder\n"
     ]
    }
   ],
   "source": [
    "print('------postorder')\n",
    "g.dfs_postorder(2)"
   ]
  },
  {
   "cell_type": "code",
   "execution_count": 90,
   "metadata": {},
   "outputs": [
    {
     "name": "stdout",
     "output_type": "stream",
     "text": [
      "------preorder\n",
      "stack: [2]\n",
      "stack: []\n",
      "visited: 2\n",
      "stack: [3]\n",
      "stack: [3, 0]\n",
      "stack: [3]\n",
      "visited: 0\n",
      "stack: [3, 1]\n",
      "stack: [3]\n",
      "visited: 1\n",
      "stack: []\n",
      "visited: 3\n",
      "visited: [2, 0, 1, 3]\n"
     ]
    }
   ],
   "source": [
    "print('------preorder')\n",
    "g.dfs_preorder(2)"
   ]
  },
  {
   "cell_type": "code",
   "execution_count": 91,
   "metadata": {},
   "outputs": [],
   "source": [
    "# Non-binary Tree\n",
    "g = Graph()\n",
    "g.add_edge('a', 'b')\n",
    "g.add_edge('a', 'c')\n",
    "g.add_edge('a', 'd')\n",
    "g.add_edge('b', 'e')\n",
    "g.add_edge('b', 'f')\n",
    "g.add_edge('b', 'g')\n",
    "g.add_edge('c', 'h')\n",
    "g.add_edge('d', 'i')\n",
    "g.add_edge('e', 'j')\n",
    "g.add_edge('f', 'j')\n",
    "g.add_edge('g', 'j')\n",
    "g.add_edge('h', 'k')\n",
    "g.add_edge('i', 'l')"
   ]
  },
  {
   "cell_type": "code",
   "execution_count": 92,
   "metadata": {},
   "outputs": [
    {
     "name": "stdout",
     "output_type": "stream",
     "text": [
      "------inorder\n"
     ]
    }
   ],
   "source": [
    "print('------inorder')\n",
    "g.dfs_inorder('a')"
   ]
  },
  {
   "cell_type": "code",
   "execution_count": 93,
   "metadata": {},
   "outputs": [
    {
     "name": "stdout",
     "output_type": "stream",
     "text": [
      "------postorder\n"
     ]
    }
   ],
   "source": [
    "print('------postorder')\n",
    "g.dfs_postorder('a')"
   ]
  },
  {
   "cell_type": "code",
   "execution_count": 94,
   "metadata": {},
   "outputs": [
    {
     "name": "stdout",
     "output_type": "stream",
     "text": [
      "------preorder\n",
      "stack: ['a']\n",
      "stack: []\n",
      "visited: a\n",
      "stack: ['d']\n",
      "stack: ['d', 'c']\n",
      "stack: ['d', 'c', 'b']\n",
      "stack: ['d', 'c']\n",
      "visited: b\n",
      "stack: ['d', 'c', 'g']\n",
      "stack: ['d', 'c', 'g', 'f']\n",
      "stack: ['d', 'c', 'g', 'f', 'e']\n",
      "stack: ['d', 'c', 'g', 'f']\n",
      "visited: e\n",
      "stack: ['d', 'c', 'g', 'f', 'j']\n",
      "stack: ['d', 'c', 'g', 'f']\n",
      "visited: j\n",
      "stack: ['d', 'c', 'g']\n",
      "visited: f\n",
      "stack: ['d', 'c']\n",
      "visited: g\n",
      "stack: ['d']\n",
      "visited: c\n",
      "stack: ['d', 'h']\n",
      "stack: ['d']\n",
      "visited: h\n",
      "stack: ['d', 'k']\n",
      "stack: ['d']\n",
      "visited: k\n",
      "stack: []\n",
      "visited: d\n",
      "stack: ['i']\n",
      "stack: []\n",
      "visited: i\n",
      "stack: ['l']\n",
      "stack: []\n",
      "visited: l\n",
      "visited: ['a', 'b', 'e', 'j', 'f', 'g', 'c', 'h', 'k', 'd', 'i', 'l']\n"
     ]
    }
   ],
   "source": [
    "print('------preorder')\n",
    "g.dfs_preorder('a')"
   ]
  },
  {
   "cell_type": "code",
   "execution_count": 95,
   "metadata": {},
   "outputs": [],
   "source": [
    "# Binary Tree\n",
    "g = Graph()\n",
    "g.add_edge('a', 'b')\n",
    "g.add_edge('a', 'c')\n",
    "g.add_edge('b', 'd')\n",
    "g.add_edge('b', 'e')\n",
    "g.add_edge('d', 'h')\n",
    "g.add_edge('e', 'i')\n",
    "g.add_edge('e', 'j')\n",
    "g.add_edge('c', 'f')\n",
    "g.add_edge('c', 'g')\n",
    "g.add_edge('g', 'k')"
   ]
  },
  {
   "cell_type": "code",
   "execution_count": 96,
   "metadata": {},
   "outputs": [
    {
     "name": "stdout",
     "output_type": "stream",
     "text": [
      "-----------inorder\n"
     ]
    }
   ],
   "source": [
    "print('-----------inorder')\n",
    "g.dfs_inorder('a')"
   ]
  },
  {
   "cell_type": "code",
   "execution_count": 97,
   "metadata": {},
   "outputs": [
    {
     "name": "stdout",
     "output_type": "stream",
     "text": [
      "-----------postorder\n"
     ]
    }
   ],
   "source": [
    "print('-----------postorder')\n",
    "g.dfs_postorder('a')"
   ]
  },
  {
   "cell_type": "code",
   "execution_count": 98,
   "metadata": {},
   "outputs": [
    {
     "name": "stdout",
     "output_type": "stream",
     "text": [
      "-----------preorder\n",
      "stack: ['a']\n",
      "stack: []\n",
      "visited: a\n",
      "stack: ['c']\n",
      "stack: ['c', 'b']\n",
      "stack: ['c']\n",
      "visited: b\n",
      "stack: ['c', 'e']\n",
      "stack: ['c', 'e', 'd']\n",
      "stack: ['c', 'e']\n",
      "visited: d\n",
      "stack: ['c', 'e', 'h']\n",
      "stack: ['c', 'e']\n",
      "visited: h\n",
      "stack: ['c']\n",
      "visited: e\n",
      "stack: ['c', 'j']\n",
      "stack: ['c', 'j', 'i']\n",
      "stack: ['c', 'j']\n",
      "visited: i\n",
      "stack: ['c']\n",
      "visited: j\n",
      "stack: []\n",
      "visited: c\n",
      "stack: ['g']\n",
      "stack: ['g', 'f']\n",
      "stack: ['g']\n",
      "visited: f\n",
      "stack: []\n",
      "visited: g\n",
      "stack: ['k']\n",
      "stack: []\n",
      "visited: k\n",
      "visited: ['a', 'b', 'd', 'h', 'e', 'i', 'j', 'c', 'f', 'g', 'k']\n"
     ]
    }
   ],
   "source": [
    "print('-----------preorder')\n",
    "g.dfs_preorder('a')"
   ]
  },
  {
   "cell_type": "markdown",
   "metadata": {},
   "source": [
    "Practice\n",
    "--"
   ]
  },
  {
   "cell_type": "code",
   "execution_count": 99,
   "metadata": {},
   "outputs": [],
   "source": [
    "from collections import defaultdict\n",
    "\n",
    "class Graph:\n",
    "    def __init__(self):\n",
    "        self.graph = defaultdict(list)\n",
    "    \n",
    "    def add_edge(self, v_from, v_to):\n",
    "        self.graph[v_from].append(v_to)\n",
    "    \n",
    "    def dfs_preorder_(self, v_start):\n",
    "        def traverse(v, visited=[]):\n",
    "            visited.append(v)\n",
    "            for v_next in self.graph[v]:\n",
    "                if v_next not in visited:\n",
    "                    traverse(v_next, visited)\n",
    "            return visited\n",
    "        print(traverse(v_start))\n",
    "    \n",
    "    def dfs_preorder(self, v_start):\n",
    "        stack = [v_start]\n",
    "        visited = []\n",
    "        \n",
    "        while stack:\n",
    "            v = stack.pop()\n",
    "            visited.append(v)\n",
    "            for v_next in self.graph[v][::-1]:\n",
    "                if v_next not in visited:\n",
    "                    stack.append(v_next)\n",
    "        \n",
    "        print(visited)"
   ]
  },
  {
   "cell_type": "code",
   "execution_count": null,
   "metadata": {},
   "outputs": [],
   "source": []
  }
 ],
 "metadata": {
  "kernelspec": {
   "display_name": "Python 3",
   "language": "python",
   "name": "python3"
  }
 },
 "nbformat": 4,
 "nbformat_minor": 2
}
