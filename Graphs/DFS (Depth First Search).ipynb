{
 "cells": [
  {
   "cell_type": "markdown",
   "metadata": {},
   "source": [
    "DFS (Depth First Search)\n",
    "--\n",
    "1. Edge : Line\n",
    "2. Vertex : Point\n",
    "3. DFS uses **Stack**\n",
    "4. Required to use : visited: list(), stack: list()\n",
    "5. Time Complexity : $O(n)$\n",
    "6. Traverse\n",
    "    1. inorder (DFS: left, self, right)\n",
    "    2. postorder (DFS: left, right, self)\n",
    "    3. preorder (DFS: self, left, right)\n",
    "\n",
    "[1] https://www.youtube.com/watch?v=uWL6FJhq5fM\n",
    "\n",
    "[2] https://www.geeksforgeeks.org/depth-first-search-or-dfs-for-a-graph/"
   ]
  },
  {
   "cell_type": "markdown",
   "metadata": {},
   "source": [
    "DFS for bidirected graph, non-binary tree, binary-tree\n",
    "--"
   ]
  },
  {
   "cell_type": "code",
   "execution_count": 261,
   "metadata": {},
   "outputs": [],
   "source": [
    "from collections import defaultdict\n",
    "\n",
    "class Graph:\n",
    "    def __init__(self):\n",
    "        self.graph = defaultdict(list)\n",
    "    \n",
    "    def add_edge(self, v_from, v_to):\n",
    "        self.graph[v_from].append(v_to)\n",
    "    \n",
    "    def dfs_inorder(self, v_start):  # left, self, right\n",
    "        stack = []\n",
    "        visited = []\n",
    "        \n",
    "        def traverse(v):\n",
    "            stack.append(v)\n",
    "            print(f'stack: {stack}')\n",
    "            for v_next in self.graph[v]:\n",
    "                if v_next not in set(stack + visited):\n",
    "                    traverse(v_next)\n",
    "                if v not in visited:\n",
    "                    v_visited = stack.pop()\n",
    "                    visited.append(v_visited)\n",
    "                    print(f'visited: {v_visited}')\n",
    "            if v not in visited:\n",
    "                v_visited = stack.pop()\n",
    "                visited.append(v_visited)\n",
    "                print(f'visited: {v_visited}')\n",
    "        \n",
    "        traverse(v_start)\n",
    "        print(f'visited: {visited}')\n",
    "    \n",
    "    def dfs_postorder(self, v_start):  # left, right, self\n",
    "        stack = []\n",
    "        visited = []\n",
    "        \n",
    "        def traverse(v):\n",
    "            stack.append(v)\n",
    "            print(f'stack: {stack}')\n",
    "            for v_next in self.graph[v]:\n",
    "                if v_next not in set(stack + visited):\n",
    "                    traverse(v_next)\n",
    "            if v not in visited:\n",
    "                v_visited = stack.pop()\n",
    "                visited.append(v_visited)\n",
    "                print(f'visited: {v_visited}')\n",
    "        \n",
    "        traverse(v_start)\n",
    "        print(f'visited: {visited}')\n",
    "    \n",
    "    def dfs_preorder(self, v_start):  # self, left, right\n",
    "        stack = []\n",
    "        visited = []\n",
    "        \n",
    "        def traverse(v):\n",
    "            stack.append(v)\n",
    "            print(f'stack: {stack}')\n",
    "            for v_next in self.graph[v]:\n",
    "                if v not in visited:\n",
    "                    v_visited = stack.pop()\n",
    "                    visited.append(v_visited)\n",
    "                    print(f'visited: {v_visited}')\n",
    "                if v_next not in set(stack + visited):\n",
    "                    traverse(v_next)\n",
    "            if v not in visited:\n",
    "                v_visited = stack.pop()\n",
    "                visited.append(v_visited)\n",
    "                print(f'visited: {v_visited}')\n",
    "        \n",
    "        traverse(v_start)\n",
    "        print(f'visited: {visited}')\n"
   ]
  },
  {
   "cell_type": "code",
   "execution_count": 300,
   "metadata": {},
   "outputs": [],
   "source": [
    "# Bidirected Graph\n",
    "g = Graph()\n",
    "g.add_edge(0, 1)\n",
    "g.add_edge(0, 2)\n",
    "g.add_edge(1, 2)\n",
    "g.add_edge(2, 0)\n",
    "g.add_edge(2, 3)\n",
    "g.add_edge(3, 3)"
   ]
  },
  {
   "cell_type": "code",
   "execution_count": 301,
   "metadata": {},
   "outputs": [
    {
     "name": "stdout",
     "output_type": "stream",
     "text": [
      "------inorder\n",
      "stack: []\n",
      "visited: [1, 0, 2, 3]\n"
     ]
    }
   ],
   "source": [
    "print('------inorder')\n",
    "g.dfs_inorder(2)"
   ]
  },
  {
   "cell_type": "code",
   "execution_count": 302,
   "metadata": {},
   "outputs": [
    {
     "name": "stdout",
     "output_type": "stream",
     "text": [
      "------postorder\n",
      "stack: []\n",
      "visited: [1, 0, 3, 2]\n"
     ]
    }
   ],
   "source": [
    "print('------postorder')\n",
    "g.dfs_postorder(2)"
   ]
  },
  {
   "cell_type": "code",
   "execution_count": 303,
   "metadata": {},
   "outputs": [
    {
     "name": "stdout",
     "output_type": "stream",
     "text": [
      "------preorder\n",
      "stack: []\n",
      "visited: [2, 0, 1, 3]\n"
     ]
    }
   ],
   "source": [
    "print('------preorder')\n",
    "g.dfs_preorder(2)"
   ]
  },
  {
   "cell_type": "code",
   "execution_count": 304,
   "metadata": {},
   "outputs": [],
   "source": [
    "# Non-binary Tree\n",
    "g = Graph()\n",
    "g.add_edge('a', 'b')\n",
    "g.add_edge('a', 'c')\n",
    "g.add_edge('a', 'd')\n",
    "g.add_edge('b', 'e')\n",
    "g.add_edge('b', 'f')\n",
    "g.add_edge('b', 'g')\n",
    "g.add_edge('c', 'h')\n",
    "g.add_edge('d', 'i')\n",
    "g.add_edge('e', 'j')\n",
    "g.add_edge('f', 'j')\n",
    "g.add_edge('g', 'j')\n",
    "g.add_edge('h', 'k')\n",
    "g.add_edge('i', 'l')"
   ]
  },
  {
   "cell_type": "code",
   "execution_count": 305,
   "metadata": {},
   "outputs": [
    {
     "name": "stdout",
     "output_type": "stream",
     "text": [
      "------inorder\n",
      "stack: []\n",
      "visited: ['j', 'e', 'b', 'f', 'g', 'a', 'k', 'h', 'c', 'l', 'i', 'd']\n"
     ]
    }
   ],
   "source": [
    "print('------inorder')\n",
    "g.dfs_inorder('a')"
   ]
  },
  {
   "cell_type": "code",
   "execution_count": 306,
   "metadata": {},
   "outputs": [
    {
     "name": "stdout",
     "output_type": "stream",
     "text": [
      "------postorder\n",
      "stack: []\n",
      "visited: ['j', 'e', 'f', 'g', 'b', 'k', 'h', 'c', 'l', 'i', 'd', 'a']\n"
     ]
    }
   ],
   "source": [
    "print('------postorder')\n",
    "g.dfs_postorder('a')"
   ]
  },
  {
   "cell_type": "code",
   "execution_count": 307,
   "metadata": {},
   "outputs": [
    {
     "name": "stdout",
     "output_type": "stream",
     "text": [
      "------preorder\n",
      "stack: []\n",
      "visited: ['a', 'b', 'e', 'j', 'f', 'g', 'c', 'h', 'k', 'd', 'i', 'l']\n"
     ]
    }
   ],
   "source": [
    "print('------preorder')\n",
    "g.dfs_preorder('a')"
   ]
  },
  {
   "cell_type": "code",
   "execution_count": 308,
   "metadata": {},
   "outputs": [],
   "source": [
    "# Binary Tree\n",
    "g = Graph()\n",
    "g.add_edge('a', 'b')\n",
    "g.add_edge('a', 'c')\n",
    "g.add_edge('b', 'd')\n",
    "g.add_edge('b', 'e')\n",
    "g.add_edge('d', 'h')\n",
    "g.add_edge('e', 'i')\n",
    "g.add_edge('e', 'j')\n",
    "g.add_edge('c', 'f')\n",
    "g.add_edge('c', 'g')\n",
    "g.add_edge('g', 'k')"
   ]
  },
  {
   "cell_type": "code",
   "execution_count": 309,
   "metadata": {},
   "outputs": [
    {
     "name": "stdout",
     "output_type": "stream",
     "text": [
      "-----------inorder\n",
      "stack: []\n",
      "visited: ['h', 'd', 'b', 'i', 'e', 'j', 'a', 'f', 'c', 'k', 'g']\n"
     ]
    }
   ],
   "source": [
    "print('-----------inorder')\n",
    "g.dfs_inorder('a')"
   ]
  },
  {
   "cell_type": "code",
   "execution_count": 310,
   "metadata": {},
   "outputs": [
    {
     "name": "stdout",
     "output_type": "stream",
     "text": [
      "-----------postorder\n",
      "stack: []\n",
      "visited: ['h', 'd', 'i', 'j', 'e', 'b', 'f', 'k', 'g', 'c', 'a']\n"
     ]
    }
   ],
   "source": [
    "print('-----------postorder')\n",
    "g.dfs_postorder('a')"
   ]
  },
  {
   "cell_type": "code",
   "execution_count": 311,
   "metadata": {},
   "outputs": [
    {
     "name": "stdout",
     "output_type": "stream",
     "text": [
      "-----------preorder\n",
      "stack: []\n",
      "visited: ['a', 'b', 'd', 'h', 'e', 'i', 'j', 'c', 'f', 'g', 'k']\n"
     ]
    }
   ],
   "source": [
    "print('-----------preorder')\n",
    "g.dfs_preorder('a')"
   ]
  },
  {
   "cell_type": "markdown",
   "metadata": {},
   "source": [
    "Practice\n",
    "--"
   ]
  },
  {
   "cell_type": "code",
   "execution_count": 299,
   "metadata": {},
   "outputs": [],
   "source": [
    "from collections import defaultdict\n",
    "\n",
    "class Graph:\n",
    "    def __init__(self):\n",
    "        self.graph = defaultdict(list)\n",
    "    \n",
    "    def add_edge(self, v_from, v_to):\n",
    "        self.graph[v_from].append(v_to)\n",
    "    \n",
    "    def dfs_inorder(self, v_start):  # left, self, right\n",
    "        stack = []\n",
    "        visited = []\n",
    "        \n",
    "        def traverse(v):\n",
    "            stack.append(v)\n",
    "            for v_next in self.graph[v]:\n",
    "                if v_next not in set(stack + visited):\n",
    "                    traverse(v_next)\n",
    "                if v not in visited:\n",
    "                    v_visited = stack.pop()\n",
    "                    visited.append(v_visited)\n",
    "            if v not in visited:\n",
    "                v_visited = stack.pop()\n",
    "                visited.append(v_visited)\n",
    "        \n",
    "        traverse(v_start)\n",
    "        print(f'stack: {stack}')\n",
    "        print(f'visited: {visited}')\n",
    "    \n",
    "    def dfs_postorder(self, v_start):  # left, right, self\n",
    "        stack = []\n",
    "        visited = []\n",
    "        \n",
    "        def traverse(v):\n",
    "            stack.append(v)\n",
    "            for v_next in self.graph[v]:\n",
    "                if v_next not in set(stack + visited):\n",
    "                    traverse(v_next)\n",
    "            if v not in visited:\n",
    "                v_visited = stack.pop()\n",
    "                visited.append(v_visited)\n",
    "        \n",
    "        traverse(v_start)\n",
    "        print(f'stack: {stack}')\n",
    "        print(f'visited: {visited}')\n",
    "    \n",
    "    def dfs_preorder(self, v_start):  # self, left, right\n",
    "        stack = []\n",
    "        visited = []\n",
    "        \n",
    "        def traverse(v):\n",
    "            stack.append(v)\n",
    "            for v_next in self.graph[v]:\n",
    "                if v not in visited:\n",
    "                    v_visited = stack.pop()\n",
    "                    visited.append(v_visited)\n",
    "                if v_next not in set(stack + visited):\n",
    "                    traverse(v_next)\n",
    "            if v not in visited:\n",
    "                v_visited = stack.pop()\n",
    "                visited.append(v_visited)\n",
    "        \n",
    "        traverse(v_start)\n",
    "        print(f'stack: {stack}')\n",
    "        print(f'visited: {visited}')"
   ]
  },
  {
   "cell_type": "code",
   "execution_count": null,
   "metadata": {},
   "outputs": [],
   "source": []
  }
 ],
 "metadata": {
  "kernelspec": {
   "display_name": "Python 3",
   "language": "python",
   "name": "python3"
  },
  "language_info": {
   "codemirror_mode": {
    "name": "ipython",
    "version": 3
   },
   "file_extension": ".py",
   "mimetype": "text/x-python",
   "name": "python",
   "nbconvert_exporter": "python",
   "pygments_lexer": "ipython3",
   "version": "3.7.3"
  }
 },
 "nbformat": 4,
 "nbformat_minor": 2
}
