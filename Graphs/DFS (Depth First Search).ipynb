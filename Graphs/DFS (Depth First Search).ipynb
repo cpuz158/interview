{
 "cells": [
  {
   "cell_type": "markdown",
   "metadata": {},
   "source": [
    "DFS (Depth First Search)\n",
    "--\n",
    "1. Edge : Line\n",
    "2. Vertex : Point\n",
    "3. DFS uses **Stack**\n",
    "4. Required to use : visited: list(), stack: list()\n",
    "5. Algorithm (preorder)\n",
    "    1. stack.append(v) ... **PUSH**\n",
    "    2. for v_next in graph[v]\n",
    "        1. if v not in visited\n",
    "            1. v_visited = stack.pop() ... **POP**\n",
    "            2. visited.append(v_visited) ... **VISIT**\n",
    "        2. if v_next not in (stack + visited)\n",
    "            1. traverse (= Go to **A.** and repeat all again) ... **RECURSIVE**\n",
    "    3. if v not in visited\n",
    "        1. v_visited = stack.pop() ... **POP**\n",
    "        2. visited.append(v_visited) ... **VISIT**\n",
    "6. Time Complexity : $O(n)$\n",
    "7. Traverse\n",
    "    1. inorder (DFS: left, self, right)\n",
    "    2. postorder (DFS: left, right, self)\n",
    "    3. preorder (DFS: self, left, right)\n",
    "\n",
    "[1] https://www.youtube.com/watch?v=uWL6FJhq5fM\n",
    "\n",
    "[2] https://www.geeksforgeeks.org/depth-first-search-or-dfs-for-a-graph/"
   ]
  },
  {
   "cell_type": "markdown",
   "metadata": {},
   "source": [
    "DFS for bidirected graph, non-binary tree, binary-tree\n",
    "--"
   ]
  },
  {
   "cell_type": "code",
   "execution_count": 251,
   "metadata": {},
   "outputs": [],
   "source": [
    "from collections import defaultdict\n",
    "\n",
    "class Graph:\n",
    "    def __init__(self):\n",
    "        self.graph = defaultdict(list)\n",
    "    \n",
    "    def add_edge(self, v_from, v_to):\n",
    "        self.graph[v_from].append(v_to)\n",
    "    \n",
    "    def dfs_inorder(self, v_start):  # left, self, right\n",
    "        def traverse(v):\n",
    "            stack.append(v)\n",
    "            print(f'stack: {stack}')\n",
    "            for v_next in self.graph[v]:\n",
    "                if v_next not in set(stack + visited):\n",
    "                    traverse(v_next)\n",
    "                if v not in visited:\n",
    "                    v_visited = stack.pop()\n",
    "                    visited.append(v_visited)\n",
    "                    print(f'visited: {v_visited}')\n",
    "            if v not in visited:\n",
    "                v_visited = stack.pop()\n",
    "                visited.append(v_visited)\n",
    "                print(f'visited: {v_visited}')\n",
    "        \n",
    "        stack = []\n",
    "        visited = []\n",
    "        \n",
    "        traverse(v_start)\n",
    "        print(f'visited: {visited}')\n",
    "    \n",
    "    def dfs_postorder(self, v_start):  # left, right, self\n",
    "        def traverse(v):\n",
    "            stack.append(v)\n",
    "            print(f'stack: {stack}')\n",
    "            for v_next in self.graph[v]:\n",
    "                if v_next not in set(stack + visited):\n",
    "                    traverse(v_next)\n",
    "            if v not in visited:\n",
    "                v_visited = stack.pop()\n",
    "                visited.append(v_visited)\n",
    "                print(f'visited: {v_visited}')\n",
    "        \n",
    "        stack = []\n",
    "        visited = []\n",
    "        \n",
    "        traverse(v_start)\n",
    "        print(f'visited: {visited}')\n",
    "    \n",
    "    def dfs_preorder(self, v_start):  # self, left, right\n",
    "        def traverse(v):\n",
    "            stack.append(v)\n",
    "            print(f'stack: {stack}')\n",
    "            for v_next in self.graph[v]:\n",
    "                if v not in visited:\n",
    "                    v_visited = stack.pop()\n",
    "                    visited.append(v_visited)\n",
    "                    print(f'visited: {v_visited}')\n",
    "                if v_next not in set(stack + visited):\n",
    "                    traverse(v_next)\n",
    "            if v not in visited:\n",
    "                v_visited = stack.pop()\n",
    "                visited.append(v_visited)\n",
    "                print(f'visited: {v_visited}')\n",
    "        \n",
    "        stack = []\n",
    "        visited = []\n",
    "        \n",
    "        traverse(v_start)\n",
    "        print(f'visited: {visited}')\n"
   ]
  },
  {
   "cell_type": "code",
   "execution_count": 252,
   "metadata": {},
   "outputs": [
    {
     "name": "stdout",
     "output_type": "stream",
     "text": [
      "------inorder\n",
      "stack: [2]\n",
      "stack: [2, 0]\n",
      "stack: [2, 0, 1]\n",
      "visited: 1\n",
      "visited: 0\n",
      "visited: 2\n",
      "stack: [3]\n",
      "visited: 3\n",
      "visited: [1, 0, 2, 3]\n",
      "------postorder\n",
      "stack: [2]\n",
      "stack: [2, 0]\n",
      "stack: [2, 0, 1]\n",
      "visited: 1\n",
      "visited: 0\n",
      "stack: [2, 3]\n",
      "visited: 3\n",
      "visited: 2\n",
      "visited: [1, 0, 3, 2]\n",
      "------preorder\n",
      "stack: [2]\n",
      "visited: 2\n",
      "stack: [0]\n",
      "visited: 0\n",
      "stack: [1]\n",
      "visited: 1\n",
      "stack: [3]\n",
      "visited: 3\n",
      "visited: [2, 0, 1, 3]\n"
     ]
    }
   ],
   "source": [
    "# Bidirected Graph\n",
    "g = Graph()\n",
    "g.add_edge(0, 1)\n",
    "g.add_edge(0, 2)\n",
    "g.add_edge(1, 2)\n",
    "g.add_edge(2, 0)\n",
    "g.add_edge(2, 3)\n",
    "g.add_edge(3, 3)\n",
    "\n",
    "print('------inorder')\n",
    "g.dfs_inorder(2)\n",
    "\n",
    "print('------postorder')\n",
    "g.dfs_postorder(2)\n",
    "\n",
    "print('------preorder')\n",
    "g.dfs_preorder(2)"
   ]
  },
  {
   "cell_type": "code",
   "execution_count": 253,
   "metadata": {},
   "outputs": [],
   "source": [
    "# Non-binary Tree\n",
    "g = Graph()\n",
    "g.add_edge('a', 'b')\n",
    "g.add_edge('a', 'c')\n",
    "g.add_edge('a', 'd')\n",
    "g.add_edge('b', 'e')\n",
    "g.add_edge('b', 'f')\n",
    "g.add_edge('b', 'g')\n",
    "g.add_edge('c', 'h')\n",
    "g.add_edge('d', 'i')\n",
    "g.add_edge('e', 'j')\n",
    "g.add_edge('f', 'j')\n",
    "g.add_edge('g', 'j')\n",
    "g.add_edge('h', 'k')\n",
    "g.add_edge('i', 'l')"
   ]
  },
  {
   "cell_type": "code",
   "execution_count": 254,
   "metadata": {},
   "outputs": [
    {
     "name": "stdout",
     "output_type": "stream",
     "text": [
      "------inorder\n",
      "stack: ['a']\n",
      "stack: ['a', 'b']\n",
      "stack: ['a', 'b', 'e']\n",
      "stack: ['a', 'b', 'e', 'j']\n",
      "visited: j\n",
      "visited: e\n",
      "visited: b\n",
      "stack: ['a', 'f']\n",
      "visited: f\n",
      "stack: ['a', 'g']\n",
      "visited: g\n",
      "visited: a\n",
      "stack: ['c']\n",
      "stack: ['c', 'h']\n",
      "stack: ['c', 'h', 'k']\n",
      "visited: k\n",
      "visited: h\n",
      "visited: c\n",
      "stack: ['d']\n",
      "stack: ['d', 'i']\n",
      "stack: ['d', 'i', 'l']\n",
      "visited: l\n",
      "visited: i\n",
      "visited: d\n",
      "visited: ['j', 'e', 'b', 'f', 'g', 'a', 'k', 'h', 'c', 'l', 'i', 'd']\n"
     ]
    }
   ],
   "source": [
    "print('------inorder')\n",
    "g.dfs_inorder('a')"
   ]
  },
  {
   "cell_type": "code",
   "execution_count": 255,
   "metadata": {},
   "outputs": [
    {
     "name": "stdout",
     "output_type": "stream",
     "text": [
      "------postorder\n",
      "stack: ['a']\n",
      "stack: ['a', 'b']\n",
      "stack: ['a', 'b', 'e']\n",
      "stack: ['a', 'b', 'e', 'j']\n",
      "visited: j\n",
      "visited: e\n",
      "stack: ['a', 'b', 'f']\n",
      "visited: f\n",
      "stack: ['a', 'b', 'g']\n",
      "visited: g\n",
      "visited: b\n",
      "stack: ['a', 'c']\n",
      "stack: ['a', 'c', 'h']\n",
      "stack: ['a', 'c', 'h', 'k']\n",
      "visited: k\n",
      "visited: h\n",
      "visited: c\n",
      "stack: ['a', 'd']\n",
      "stack: ['a', 'd', 'i']\n",
      "stack: ['a', 'd', 'i', 'l']\n",
      "visited: l\n",
      "visited: i\n",
      "visited: d\n",
      "visited: a\n",
      "visited: ['j', 'e', 'f', 'g', 'b', 'k', 'h', 'c', 'l', 'i', 'd', 'a']\n"
     ]
    }
   ],
   "source": [
    "print('------postorder')\n",
    "g.dfs_postorder('a')"
   ]
  },
  {
   "cell_type": "code",
   "execution_count": 256,
   "metadata": {},
   "outputs": [
    {
     "name": "stdout",
     "output_type": "stream",
     "text": [
      "------preorder\n",
      "stack: ['a']\n",
      "visited: a\n",
      "stack: ['b']\n",
      "visited: b\n",
      "stack: ['e']\n",
      "visited: e\n",
      "stack: ['j']\n",
      "visited: j\n",
      "stack: ['f']\n",
      "visited: f\n",
      "stack: ['g']\n",
      "visited: g\n",
      "stack: ['c']\n",
      "visited: c\n",
      "stack: ['h']\n",
      "visited: h\n",
      "stack: ['k']\n",
      "visited: k\n",
      "stack: ['d']\n",
      "visited: d\n",
      "stack: ['i']\n",
      "visited: i\n",
      "stack: ['l']\n",
      "visited: l\n",
      "visited: ['a', 'b', 'e', 'j', 'f', 'g', 'c', 'h', 'k', 'd', 'i', 'l']\n"
     ]
    }
   ],
   "source": [
    "print('------preorder')\n",
    "g.dfs_preorder('a')"
   ]
  },
  {
   "cell_type": "code",
   "execution_count": 257,
   "metadata": {},
   "outputs": [],
   "source": [
    "# Binary Tree\n",
    "g = Graph()\n",
    "g.add_edge('a', 'b')\n",
    "g.add_edge('a', 'c')\n",
    "g.add_edge('b', 'd')\n",
    "g.add_edge('b', 'e')\n",
    "g.add_edge('d', 'h')\n",
    "g.add_edge('e', 'i')\n",
    "g.add_edge('e', 'j')\n",
    "g.add_edge('c', 'f')\n",
    "g.add_edge('c', 'g')\n",
    "g.add_edge('g', 'k')"
   ]
  },
  {
   "cell_type": "code",
   "execution_count": 258,
   "metadata": {},
   "outputs": [
    {
     "name": "stdout",
     "output_type": "stream",
     "text": [
      "-----------inorder\n",
      "stack: ['a']\n",
      "stack: ['a', 'b']\n",
      "stack: ['a', 'b', 'd']\n",
      "stack: ['a', 'b', 'd', 'h']\n",
      "visited: h\n",
      "visited: d\n",
      "visited: b\n",
      "stack: ['a', 'e']\n",
      "stack: ['a', 'e', 'i']\n",
      "visited: i\n",
      "visited: e\n",
      "stack: ['a', 'j']\n",
      "visited: j\n",
      "visited: a\n",
      "stack: ['c']\n",
      "stack: ['c', 'f']\n",
      "visited: f\n",
      "visited: c\n",
      "stack: ['g']\n",
      "stack: ['g', 'k']\n",
      "visited: k\n",
      "visited: g\n",
      "visited: ['h', 'd', 'b', 'i', 'e', 'j', 'a', 'f', 'c', 'k', 'g']\n"
     ]
    }
   ],
   "source": [
    "print('-----------inorder')\n",
    "g.dfs_inorder('a')"
   ]
  },
  {
   "cell_type": "code",
   "execution_count": 259,
   "metadata": {},
   "outputs": [
    {
     "name": "stdout",
     "output_type": "stream",
     "text": [
      "-----------postorder\n",
      "stack: ['a']\n",
      "stack: ['a', 'b']\n",
      "stack: ['a', 'b', 'd']\n",
      "stack: ['a', 'b', 'd', 'h']\n",
      "visited: h\n",
      "visited: d\n",
      "stack: ['a', 'b', 'e']\n",
      "stack: ['a', 'b', 'e', 'i']\n",
      "visited: i\n",
      "stack: ['a', 'b', 'e', 'j']\n",
      "visited: j\n",
      "visited: e\n",
      "visited: b\n",
      "stack: ['a', 'c']\n",
      "stack: ['a', 'c', 'f']\n",
      "visited: f\n",
      "stack: ['a', 'c', 'g']\n",
      "stack: ['a', 'c', 'g', 'k']\n",
      "visited: k\n",
      "visited: g\n",
      "visited: c\n",
      "visited: a\n",
      "visited: ['h', 'd', 'i', 'j', 'e', 'b', 'f', 'k', 'g', 'c', 'a']\n"
     ]
    }
   ],
   "source": [
    "print('-----------postorder')\n",
    "g.dfs_postorder('a')"
   ]
  },
  {
   "cell_type": "code",
   "execution_count": 260,
   "metadata": {},
   "outputs": [
    {
     "name": "stdout",
     "output_type": "stream",
     "text": [
      "-----------preorder\n",
      "stack: ['a']\n",
      "visited: a\n",
      "stack: ['b']\n",
      "visited: b\n",
      "stack: ['d']\n",
      "visited: d\n",
      "stack: ['h']\n",
      "visited: h\n",
      "stack: ['e']\n",
      "visited: e\n",
      "stack: ['i']\n",
      "visited: i\n",
      "stack: ['j']\n",
      "visited: j\n",
      "stack: ['c']\n",
      "visited: c\n",
      "stack: ['f']\n",
      "visited: f\n",
      "stack: ['g']\n",
      "visited: g\n",
      "stack: ['k']\n",
      "visited: k\n",
      "visited: ['a', 'b', 'd', 'h', 'e', 'i', 'j', 'c', 'f', 'g', 'k']\n"
     ]
    }
   ],
   "source": [
    "print('-----------preorder')\n",
    "g.dfs_preorder('a')"
   ]
  },
  {
   "cell_type": "code",
   "execution_count": null,
   "metadata": {},
   "outputs": [],
   "source": []
  }
 ],
 "metadata": {
  "kernelspec": {
   "display_name": "Python 3",
   "language": "python",
   "name": "python3"
  },
  "language_info": {
   "codemirror_mode": {
    "name": "ipython",
    "version": 3
   },
   "file_extension": ".py",
   "mimetype": "text/x-python",
   "name": "python",
   "nbconvert_exporter": "python",
   "pygments_lexer": "ipython3",
   "version": "3.7.3"
  }
 },
 "nbformat": 4,
 "nbformat_minor": 2
}
