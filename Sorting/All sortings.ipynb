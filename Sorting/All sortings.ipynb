{
 "cells": [
  {
   "cell_type": "markdown",
   "metadata": {},
   "source": [
    "- http://bigocheatsheet.com/\n",
    "\n",
    "- https://visualgo.net/ko/heap"
   ]
  },
  {
   "cell_type": "code",
   "execution_count": 22,
   "metadata": {},
   "outputs": [],
   "source": [
    "easy_sample = [5, 1, 9, 8, 3, 4, 7, 6, 2]"
   ]
  },
  {
   "cell_type": "markdown",
   "metadata": {},
   "source": [
    "Bubble Sort\n",
    "--"
   ]
  },
  {
   "cell_type": "code",
   "execution_count": 13,
   "metadata": {},
   "outputs": [],
   "source": [
    "def bubble_sort(arr: []):\n",
    "    for i in range(len(arr)):\n",
    "        for j in range(i+1, len(arr)):\n",
    "            if arr[i] > arr[j]:\n",
    "                arr[i], arr[j] = arr[j], arr[i]\n",
    "    return arr"
   ]
  },
  {
   "cell_type": "code",
   "execution_count": 24,
   "metadata": {},
   "outputs": [
    {
     "data": {
      "text/plain": [
       "[1, 2, 3, 4, 5, 6, 7, 8, 9]"
      ]
     },
     "execution_count": 24,
     "metadata": {},
     "output_type": "execute_result"
    }
   ],
   "source": [
    "bubble_sort(list(easy_sample))"
   ]
  },
  {
   "cell_type": "markdown",
   "metadata": {},
   "source": [
    "Selection Sort\n",
    "--"
   ]
  },
  {
   "cell_type": "code",
   "execution_count": 15,
   "metadata": {},
   "outputs": [],
   "source": [
    "def selection_sort(arr: []):\n",
    "    for i in range(len(arr)):\n",
    "        min_ever = min(arr[i:len(arr)])\n",
    "        idx = arr.index(min_ever)\n",
    "        arr[i], arr[idx] = arr[idx], arr[i]\n",
    "    return arr"
   ]
  },
  {
   "cell_type": "code",
   "execution_count": 25,
   "metadata": {},
   "outputs": [
    {
     "data": {
      "text/plain": [
       "[1, 2, 3, 4, 5, 6, 7, 8, 9]"
      ]
     },
     "execution_count": 25,
     "metadata": {},
     "output_type": "execute_result"
    }
   ],
   "source": [
    "selection_sort(list(easy_sample))"
   ]
  },
  {
   "cell_type": "markdown",
   "metadata": {},
   "source": [
    "Insertion Sort\n",
    "--"
   ]
  },
  {
   "cell_type": "code",
   "execution_count": 26,
   "metadata": {},
   "outputs": [],
   "source": [
    "# If assuming arr = [1,2,3,4,5] is already sorted,\n",
    "# BigO will be \"n\"\n",
    "\n",
    "def insertion_sort(arr: []):\n",
    "    for i in range(1, len(arr)):\n",
    "        for j in range(0, i+1):\n",
    "            if arr[j] > arr[i]:\n",
    "                arr.insert(j, arr.pop(i))\n",
    "                break\n",
    "    return arr"
   ]
  },
  {
   "cell_type": "code",
   "execution_count": 27,
   "metadata": {},
   "outputs": [
    {
     "data": {
      "text/plain": [
       "[1, 2, 3, 4, 5, 6, 7, 8, 9]"
      ]
     },
     "execution_count": 27,
     "metadata": {},
     "output_type": "execute_result"
    }
   ],
   "source": [
    "insertion_sort(list(easy_sample))"
   ]
  },
  {
   "cell_type": "code",
   "execution_count": 31,
   "metadata": {},
   "outputs": [
    {
     "data": {
      "text/plain": [
       "[1, 2, 3, 4, 5, 6, 7, 8, 9]"
      ]
     },
     "execution_count": 31,
     "metadata": {},
     "output_type": "execute_result"
    }
   ],
   "source": [
    "# Best case\n",
    "insertion_sort([1, 2, 3, 4, 5, 6, 7, 8, 9])"
   ]
  },
  {
   "cell_type": "markdown",
   "metadata": {},
   "source": [
    "Heap Sort\n",
    "--"
   ]
  },
  {
   "cell_type": "code",
   "execution_count": 29,
   "metadata": {},
   "outputs": [],
   "source": [
    "def create_binary_tree_map(arr: []):\n",
    "    tree, idx = [], 0\n",
    "    for i in range(len(arr)):\n",
    "        size = min(2 ** i, len(arr) - idx)\n",
    "        tree.append((idx, size))\n",
    "        idx += size\n",
    "        if idx >= len(arr):\n",
    "            return tree"
   ]
  },
  {
   "cell_type": "code",
   "execution_count": 57,
   "metadata": {},
   "outputs": [],
   "source": [
    "def heap_sort(arr: []):\n",
    "    def arrange_bottom_up(i):\n",
    "        while i:\n",
    "            p = (i // 2 + i % 2) - 1  # p = parent\n",
    "            if arr[p] >= arr[i]:\n",
    "                break\n",
    "            arr[p], arr[i] = arr[i], arr[p]\n",
    "            i = p\n",
    "    \n",
    "    def arrange_top_down(i, length):\n",
    "        while i < length:\n",
    "            left = i * 2 + 1\n",
    "            right = left + 1\n",
    "            children = [(arr[x], x) for x in [left, right] if x < length]\n",
    "            if children:\n",
    "                c = max(children)[1]  # c = child\n",
    "                if arr[c] > arr[i]:\n",
    "                    arr[c], arr[i] = arr[i], arr[c]\n",
    "                    i = c\n",
    "                    continue\n",
    "            break\n",
    "    \n",
    "    def heapify():\n",
    "        for i in range(len(arr)):\n",
    "            left = i * 2 + 1\n",
    "            right = left + 1\n",
    "            children = [x for x in [left, right] if x < len(arr)]\n",
    "            for c in children:\n",
    "                arrange_bottom_up(c)\n",
    "    \n",
    "    # In-place sorting\n",
    "    def sort():\n",
    "        for i in range(1, len(arr) + 1):\n",
    "            arr[0], arr[-i] = arr[-i], arr[0]\n",
    "            arrange_top_down(0, len(arr) - i)\n",
    "        return arr\n",
    "    \n",
    "    heapify()\n",
    "    return sort()"
   ]
  },
  {
   "cell_type": "code",
   "execution_count": 58,
   "metadata": {},
   "outputs": [
    {
     "data": {
      "text/plain": [
       "[1, 2, 3, 4, 5, 6, 7, 8, 9]"
      ]
     },
     "execution_count": 58,
     "metadata": {},
     "output_type": "execute_result"
    }
   ],
   "source": [
    "heap_sort(list(easy_sample))"
   ]
  },
  {
   "cell_type": "markdown",
   "metadata": {},
   "source": [
    "Benchmark\n",
    "--"
   ]
  },
  {
   "cell_type": "code",
   "execution_count": 59,
   "metadata": {},
   "outputs": [],
   "source": [
    "import random\n",
    "sample = random.sample(range(1, 900000), 50000)"
   ]
  },
  {
   "cell_type": "code",
   "execution_count": 60,
   "metadata": {},
   "outputs": [
    {
     "name": "stdout",
     "output_type": "stream",
     "text": [
      "Wall time: 798 ms\n"
     ]
    }
   ],
   "source": [
    "%%time\n",
    "arr = list(sample)\n",
    "heap_sort(arr)"
   ]
  },
  {
   "cell_type": "code",
   "execution_count": 79,
   "metadata": {},
   "outputs": [
    {
     "name": "stdout",
     "output_type": "stream",
     "text": [
      "Wall time: 52 s\n"
     ]
    }
   ],
   "source": [
    "%%time\n",
    "arr = list(sample)\n",
    "insertion_sort(arr)"
   ]
  },
  {
   "cell_type": "code",
   "execution_count": 80,
   "metadata": {},
   "outputs": [
    {
     "name": "stdout",
     "output_type": "stream",
     "text": [
      "Wall time: 1min 8s\n"
     ]
    }
   ],
   "source": [
    "%%time\n",
    "arr = list(sample)\n",
    "selection_sort(arr)"
   ]
  },
  {
   "cell_type": "code",
   "execution_count": 81,
   "metadata": {},
   "outputs": [
    {
     "name": "stdout",
     "output_type": "stream",
     "text": [
      "Wall time: 2min 44s\n"
     ]
    }
   ],
   "source": [
    "%%time\n",
    "arr = list(sample)\n",
    "bubble_sort(arr)"
   ]
  },
  {
   "cell_type": "code",
   "execution_count": null,
   "metadata": {},
   "outputs": [],
   "source": []
  }
 ],
 "metadata": {
  "kernelspec": {
   "display_name": "Python 3",
   "language": "python",
   "name": "python3"
  },
  "language_info": {
   "codemirror_mode": {
    "name": "ipython",
    "version": 3
   },
   "file_extension": ".py",
   "mimetype": "text/x-python",
   "name": "python",
   "nbconvert_exporter": "python",
   "pygments_lexer": "ipython3",
   "version": "3.7.3"
  }
 },
 "nbformat": 4,
 "nbformat_minor": 2
}
