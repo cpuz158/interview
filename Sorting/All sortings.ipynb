{
 "cells": [
  {
   "cell_type": "markdown",
   "metadata": {},
   "source": [
    "- http://bigocheatsheet.com/\n",
    "\n",
    "- https://visualgo.net/ko/heap"
   ]
  },
  {
   "cell_type": "markdown",
   "metadata": {},
   "source": [
    "Bubble Sort\n",
    "--"
   ]
  },
  {
   "cell_type": "code",
   "execution_count": 67,
   "metadata": {},
   "outputs": [],
   "source": [
    "def bubble_sort(arr: []):\n",
    "    for i in range(len(arr)):\n",
    "        for j in range(i+1, len(arr)):\n",
    "            if arr[i] > arr[j]:\n",
    "                arr[i], arr[j] = arr[j], arr[i]\n",
    "    return arr"
   ]
  },
  {
   "cell_type": "code",
   "execution_count": 68,
   "metadata": {},
   "outputs": [
    {
     "data": {
      "text/plain": [
       "[1, 2, 3, 4, 5, 6, 7, 8, 9]"
      ]
     },
     "execution_count": 68,
     "metadata": {},
     "output_type": "execute_result"
    }
   ],
   "source": [
    "arr = [5, 1, 9, 8, 3, 4, 7, 6, 2]\n",
    "bubble_sort(arr)"
   ]
  },
  {
   "cell_type": "markdown",
   "metadata": {},
   "source": [
    "Selection Sort\n",
    "--"
   ]
  },
  {
   "cell_type": "code",
   "execution_count": 69,
   "metadata": {},
   "outputs": [],
   "source": [
    "def selection_sort(arr: []):\n",
    "    for i in range(len(arr)):\n",
    "        min_ever = min(arr[i:len(arr)])\n",
    "        idx = arr.index(min_ever)\n",
    "        arr[i], arr[idx] = arr[idx], arr[i]\n",
    "    return arr"
   ]
  },
  {
   "cell_type": "code",
   "execution_count": 70,
   "metadata": {},
   "outputs": [
    {
     "data": {
      "text/plain": [
       "[1, 2, 3, 4, 5, 6, 7, 8, 9]"
      ]
     },
     "execution_count": 70,
     "metadata": {},
     "output_type": "execute_result"
    }
   ],
   "source": [
    "arr = [5, 1, 9, 8, 3, 4, 7, 6, 2]\n",
    "selection_sort(arr)"
   ]
  },
  {
   "cell_type": "markdown",
   "metadata": {},
   "source": [
    "Insertion Sort\n",
    "--"
   ]
  },
  {
   "cell_type": "code",
   "execution_count": 71,
   "metadata": {},
   "outputs": [],
   "source": [
    "# If assuming arr = [1,2,3,4,5] is already sorted,\n",
    "# BigO will be \"n\"\n",
    "\n",
    "def insertion_sort(arr: []):\n",
    "    for i in range(1, len(arr)):\n",
    "        for j in range(0, i+1):\n",
    "            if arr[j] > arr[i]:\n",
    "                arr.insert(j, arr.pop(i))\n",
    "                break\n",
    "    return arr"
   ]
  },
  {
   "cell_type": "code",
   "execution_count": 72,
   "metadata": {},
   "outputs": [
    {
     "data": {
      "text/plain": [
       "[1, 2, 3, 4, 5, 6, 7, 8, 9]"
      ]
     },
     "execution_count": 72,
     "metadata": {},
     "output_type": "execute_result"
    }
   ],
   "source": [
    "arr = [5, 1, 9, 8, 3, 4, 7, 6, 2]\n",
    "insertion_sort(arr)"
   ]
  },
  {
   "cell_type": "code",
   "execution_count": 73,
   "metadata": {},
   "outputs": [
    {
     "data": {
      "text/plain": [
       "[1, 2, 3, 4, 5, 6, 7, 8, 9]"
      ]
     },
     "execution_count": 73,
     "metadata": {},
     "output_type": "execute_result"
    }
   ],
   "source": [
    "# Best case = n\n",
    "arr = [1,2,3,4,5,6,7,8,9]\n",
    "insertion_sort(arr)"
   ]
  },
  {
   "cell_type": "markdown",
   "metadata": {},
   "source": [
    "Heap Sort\n",
    "--"
   ]
  },
  {
   "cell_type": "code",
   "execution_count": 74,
   "metadata": {},
   "outputs": [],
   "source": [
    "def create_binary_tree_map(arr: []):\n",
    "    tree, idx = [], 0\n",
    "    for i in range(len(arr)):\n",
    "        size = min(2 ** i, len(arr) - idx)\n",
    "        tree.append((idx, size))\n",
    "        idx += size\n",
    "        if idx >= len(arr):\n",
    "            return tree"
   ]
  },
  {
   "cell_type": "code",
   "execution_count": 11,
   "metadata": {},
   "outputs": [],
   "source": [
    "def heap_sort(arr: []):\n",
    "    def arrange_bottom_up(idx):\n",
    "        while idx:\n",
    "            p_idx = (idx // 2 + idx % 2) - 1\n",
    "            if arr[p_idx] >= arr[idx]:\n",
    "                break\n",
    "            arr[p_idx], arr[idx] = arr[idx], arr[p_idx]\n",
    "            idx = p_idx\n",
    "    \n",
    "    def arrange_top_down(idx, length):\n",
    "        while idx < length:\n",
    "            left = idx * 2 + 1\n",
    "            right = left + 1\n",
    "            children = [(arr[x], x) for x in [left, right] if x < length]\n",
    "            if children:\n",
    "                c_idx = max(children)[1]\n",
    "                if arr[c_idx] > arr[idx]:\n",
    "                    arr[c_idx], arr[idx] = arr[idx], arr[c_idx]\n",
    "                    idx = c_idx\n",
    "                    continue\n",
    "            break\n",
    "    \n",
    "    def heapify():\n",
    "        for i in range(len(arr)):\n",
    "            left = i * 2 + 1\n",
    "            right = left + 1\n",
    "            children = [x for x in [left, right] if x < len(arr)]\n",
    "            for c in children:\n",
    "                arrange_bottom_up(c)\n",
    "    \n",
    "    # In-place sorting\n",
    "    def sort():\n",
    "        x = len(arr)  # Unsorted length\n",
    "        while x > 1:\n",
    "            arr.insert(x - 1, arr.pop(0))\n",
    "            x -= 1\n",
    "            arr.insert(0, arr.pop(x - len(arr) - 1))\n",
    "            arrange_top_down(0, x)\n",
    "        return arr\n",
    "    \n",
    "    # Sorting by creating a new array\n",
    "    def sort_new():\n",
    "        sorted_arr = []\n",
    "        while arr:\n",
    "            sorted_arr.append(arr.pop(0))\n",
    "            if not arr:\n",
    "                break\n",
    "            arr.insert(0, arr.pop())\n",
    "            arrange_top_down(0, len(arr))\n",
    "        return sorted_arr[::-1]\n",
    "    \n",
    "    heapify()\n",
    "    return sort_new()"
   ]
  },
  {
   "cell_type": "code",
   "execution_count": 12,
   "metadata": {},
   "outputs": [
    {
     "data": {
      "text/plain": [
       "[1, 2, 3, 4, 5, 6, 7, 8, 9]"
      ]
     },
     "execution_count": 12,
     "metadata": {},
     "output_type": "execute_result"
    }
   ],
   "source": [
    "arr = [5, 1, 9, 8, 3, 4, 7, 6, 2]\n",
    "heap_sort(arr)"
   ]
  },
  {
   "cell_type": "markdown",
   "metadata": {},
   "source": [
    "Benchmark\n",
    "--"
   ]
  },
  {
   "cell_type": "code",
   "execution_count": 13,
   "metadata": {},
   "outputs": [],
   "source": [
    "import random\n",
    "sample = random.sample(range(1, 900000), 50000)"
   ]
  },
  {
   "cell_type": "code",
   "execution_count": 14,
   "metadata": {},
   "outputs": [
    {
     "name": "stdout",
     "output_type": "stream",
     "text": [
      "Wall time: 1.77 s\n"
     ]
    }
   ],
   "source": [
    "%%time\n",
    "arr = list(sample)\n",
    "heap_sort(arr)"
   ]
  },
  {
   "cell_type": "code",
   "execution_count": 79,
   "metadata": {},
   "outputs": [
    {
     "name": "stdout",
     "output_type": "stream",
     "text": [
      "Wall time: 52 s\n"
     ]
    }
   ],
   "source": [
    "%%time\n",
    "arr = list(sample)\n",
    "insertion_sort(arr)"
   ]
  },
  {
   "cell_type": "code",
   "execution_count": 80,
   "metadata": {},
   "outputs": [
    {
     "name": "stdout",
     "output_type": "stream",
     "text": [
      "Wall time: 1min 8s\n"
     ]
    }
   ],
   "source": [
    "%%time\n",
    "arr = list(sample)\n",
    "selection_sort(arr)"
   ]
  },
  {
   "cell_type": "code",
   "execution_count": 81,
   "metadata": {},
   "outputs": [
    {
     "name": "stdout",
     "output_type": "stream",
     "text": [
      "Wall time: 2min 44s\n"
     ]
    }
   ],
   "source": [
    "%%time\n",
    "arr = list(sample)\n",
    "bubble_sort(arr)"
   ]
  },
  {
   "cell_type": "code",
   "execution_count": null,
   "metadata": {},
   "outputs": [],
   "source": []
  }
 ],
 "metadata": {
  "kernelspec": {
   "display_name": "Python 3",
   "language": "python",
   "name": "python3"
  },
  "language_info": {
   "codemirror_mode": {
    "name": "ipython",
    "version": 3
   },
   "file_extension": ".py",
   "mimetype": "text/x-python",
   "name": "python",
   "nbconvert_exporter": "python",
   "pygments_lexer": "ipython3",
   "version": "3.7.3"
  }
 },
 "nbformat": 4,
 "nbformat_minor": 2
}
