{
 "cells": [
  {
   "cell_type": "markdown",
   "metadata": {},
   "source": [
    "Reference\n",
    "--\n",
    "\n",
    "- **Time Complexity (BigO)**, Cheet Sheet : http://bigocheatsheet.com/\n",
    "\n",
    "- Heap tree visualization : https://visualgo.net/ko/heap\n",
    "\n",
    "- Time Complexity of Python basic functions : https://wiki.python.org/moin/TimeComplexity"
   ]
  },
  {
   "cell_type": "code",
   "execution_count": 16,
   "metadata": {},
   "outputs": [],
   "source": [
    "sample = [0, 5, 9, 3, 1, 2, 8, 4, 7, 6]"
   ]
  },
  {
   "cell_type": "markdown",
   "metadata": {},
   "source": [
    "Bubble Sort\n",
    "--"
   ]
  },
  {
   "cell_type": "code",
   "execution_count": 17,
   "metadata": {},
   "outputs": [],
   "source": [
    "def bubble_sort(arr: []):\n",
    "    n = len(arr)\n",
    "    for i in range(n):\n",
    "        stop = True\n",
    "        for j in range(n-i-1):\n",
    "            if arr[j] > arr[j+1] :\n",
    "                arr[j], arr[j+1] = arr[j+1], arr[j]\n",
    "                stop = False\n",
    "        if stop:\n",
    "            break"
   ]
  },
  {
   "cell_type": "code",
   "execution_count": 18,
   "metadata": {},
   "outputs": [
    {
     "name": "stdout",
     "output_type": "stream",
     "text": [
      "[0, 1, 2, 3, 4, 5, 6, 7, 8, 9]\n"
     ]
    }
   ],
   "source": [
    "# The average\n",
    "x = [*sample]\n",
    "bubble_sort(x)\n",
    "y = x\n",
    "print(y)"
   ]
  },
  {
   "cell_type": "code",
   "execution_count": 19,
   "metadata": {},
   "outputs": [
    {
     "name": "stdout",
     "output_type": "stream",
     "text": [
      "[0, 1, 2, 3, 4, 5, 6, 7, 8, 9]\n"
     ]
    }
   ],
   "source": [
    "# The best : Already sorted (stop = True)\n",
    "x = [*range(10)]\n",
    "bubble_sort(x)\n",
    "y = x\n",
    "print(y)"
   ]
  },
  {
   "cell_type": "code",
   "execution_count": 20,
   "metadata": {},
   "outputs": [
    {
     "name": "stdout",
     "output_type": "stream",
     "text": [
      "[0, 1, 2, 3, 4, 5, 6, 7, 8, 9]\n"
     ]
    }
   ],
   "source": [
    "# The worst : Sorted in reverse\n",
    "# range(9, -1, -1)\n",
    "x = [*range(10)[::-1]]\n",
    "bubble_sort(x)\n",
    "y = x\n",
    "print(y)"
   ]
  },
  {
   "cell_type": "markdown",
   "metadata": {},
   "source": [
    "Selection Sort\n",
    "--"
   ]
  },
  {
   "cell_type": "code",
   "execution_count": 21,
   "metadata": {},
   "outputs": [],
   "source": [
    "def selection_sort(arr: []):\n",
    "    n = len(arr)\n",
    "    for i in range(n):\n",
    "        m = i  # Minimum\n",
    "        for j in range(i+1, n):\n",
    "            if arr[m] > arr[j]:\n",
    "                m = j\n",
    "        if m != i:\n",
    "            arr[i], arr[m] = arr[m], arr[i]"
   ]
  },
  {
   "cell_type": "code",
   "execution_count": 22,
   "metadata": {},
   "outputs": [
    {
     "name": "stdout",
     "output_type": "stream",
     "text": [
      "[0, 1, 2, 3, 4, 5, 6, 7, 8, 9]\n"
     ]
    }
   ],
   "source": [
    "x = [*sample]\n",
    "selection_sort(x)\n",
    "y = x\n",
    "print(y)"
   ]
  },
  {
   "cell_type": "markdown",
   "metadata": {},
   "source": [
    "Insertion Sort\n",
    "--"
   ]
  },
  {
   "cell_type": "code",
   "execution_count": 23,
   "metadata": {},
   "outputs": [],
   "source": [
    "def insertion_sort(arr: []):\n",
    "    n = len(arr)\n",
    "    for i in range(1, n):  # Unsorted\n",
    "        key = i\n",
    "        for j in range(i)[::-1]:  # Sorted\n",
    "            if arr[j] <= arr[key]:\n",
    "                break\n",
    "            arr[j], arr[key] = arr[key], arr[j]\n",
    "            key = j"
   ]
  },
  {
   "cell_type": "code",
   "execution_count": 24,
   "metadata": {},
   "outputs": [
    {
     "name": "stdout",
     "output_type": "stream",
     "text": [
      "[0, 1, 2, 3, 4, 5, 6, 7, 8, 9]\n"
     ]
    }
   ],
   "source": [
    "# The average\n",
    "x = [*sample]\n",
    "insertion_sort(x)\n",
    "y = x\n",
    "print(y)"
   ]
  },
  {
   "cell_type": "code",
   "execution_count": 25,
   "metadata": {},
   "outputs": [
    {
     "name": "stdout",
     "output_type": "stream",
     "text": [
      "[0, 1, 2, 3, 4, 5, 6, 7, 8, 9]\n"
     ]
    }
   ],
   "source": [
    "# The best : Already sorted\n",
    "x = [*range(10)]\n",
    "insertion_sort(x)\n",
    "y = x\n",
    "print(y)"
   ]
  },
  {
   "cell_type": "code",
   "execution_count": 26,
   "metadata": {},
   "outputs": [
    {
     "name": "stdout",
     "output_type": "stream",
     "text": [
      "[0, 1, 2, 3, 4, 5, 6, 7, 8, 9]\n"
     ]
    }
   ],
   "source": [
    "# The worst : Sorted in reverse\n",
    "# arr = list(range(9, 0, -1))\n",
    "x = [*range(10)[::-1]]\n",
    "insertion_sort(x)\n",
    "y = x\n",
    "print(y)"
   ]
  },
  {
   "cell_type": "markdown",
   "metadata": {},
   "source": [
    "Heap Sort\n",
    "--"
   ]
  },
  {
   "cell_type": "code",
   "execution_count": 27,
   "metadata": {},
   "outputs": [],
   "source": [
    "def get_binary_tree_map(arr: []):\n",
    "    n = len(arr)\n",
    "    tree, idx = [], 0\n",
    "    for i in range(n):\n",
    "        size = min(2**i, n-idx)\n",
    "        tree.append((idx, size))\n",
    "        idx += size\n",
    "        if idx >= n:\n",
    "            return tree"
   ]
  },
  {
   "cell_type": "code",
   "execution_count": 28,
   "metadata": {},
   "outputs": [
    {
     "name": "stdout",
     "output_type": "stream",
     "text": [
      "[(0, 1), (1, 2), (3, 4), (7, 3)]\n"
     ]
    }
   ],
   "source": [
    "x = [*range(10)]\n",
    "y = get_binary_tree_map(x)\n",
    "print(y)  # start_index, size"
   ]
  },
  {
   "cell_type": "code",
   "execution_count": 29,
   "metadata": {},
   "outputs": [],
   "source": [
    "def heap_sort(arr: []):\n",
    "    _n = len(arr)\n",
    "    \n",
    "    def arr_to_max_heap(n):\n",
    "        for i in range(n):\n",
    "            while i:\n",
    "                p = (i//2 + i%2) - 1\n",
    "                if arr[p] >= arr[i]:\n",
    "                    break\n",
    "                arr[p], arr[i] = arr[i], arr[p]\n",
    "                i = p\n",
    "    \n",
    "    def heapify(n):\n",
    "        i = 0\n",
    "        while i < n:\n",
    "            left = i * 2 + 1\n",
    "            right = left + 1\n",
    "            swap = i\n",
    "\n",
    "            if left < n and arr[left] > arr[swap]:\n",
    "                swap = left\n",
    "            if right < n and arr[right] > arr[swap]:\n",
    "                swap = right\n",
    "            if i == swap:\n",
    "                break\n",
    "\n",
    "            arr[swap], arr[i] = arr[i], arr[swap]\n",
    "            i = swap\n",
    "                \n",
    "    # In-place sorting\n",
    "    def sort(n):\n",
    "        for i in range(1, n+1):\n",
    "            arr[0], arr[-i] = arr[-i], arr[0]\n",
    "            heapify(n-i)\n",
    "    \n",
    "    arr_to_max_heap(_n)\n",
    "    sort(_n)"
   ]
  },
  {
   "cell_type": "code",
   "execution_count": 58,
   "metadata": {},
   "outputs": [
    {
     "name": "stdout",
     "output_type": "stream",
     "text": [
      "[0, 1, 2, 3, 4, 5, 6, 7, 8, 9]\n"
     ]
    }
   ],
   "source": [
    "# As always -> n log n\n",
    "x = [*sample]\n",
    "heap_sort(x)\n",
    "y = x\n",
    "print(y)"
   ]
  },
  {
   "cell_type": "markdown",
   "metadata": {},
   "source": [
    "Merge Sort\n",
    "--"
   ]
  },
  {
   "cell_type": "code",
   "execution_count": 135,
   "metadata": {},
   "outputs": [],
   "source": [
    "def merge_sort(arr: []):\n",
    "    def merge(left: [], right: []):\n",
    "        merged = []\n",
    "        l, nl, r, nr = 0, len(left), 0, len(right)\n",
    "        while l < nl or r < nr:\n",
    "            if l == nl or (r < nr and left[l] > right[r]):\n",
    "                merged.append(right[r])\n",
    "                r += 1\n",
    "            else:\n",
    "                merged.append(left[l])\n",
    "                l += 1\n",
    "        return merged\n",
    "    \n",
    "    def sort(subarr: [], n):\n",
    "        m = n//2\n",
    "        left, right = subarr[:m], subarr[m:]\n",
    "        if n > 2:\n",
    "            left, right = sort(left, len(left)), sort(right, len(right))\n",
    "        return merge(left, right)\n",
    "    \n",
    "    arr = sort(arr, len(arr))\n",
    "    return arr"
   ]
  },
  {
   "cell_type": "code",
   "execution_count": 136,
   "metadata": {},
   "outputs": [
    {
     "name": "stdout",
     "output_type": "stream",
     "text": [
      "[0, 1, 2, 3, 4, 5, 6, 7, 8, 9]\n"
     ]
    }
   ],
   "source": [
    "x = [*sample]\n",
    "y = merge_sort(x)\n",
    "print(y)"
   ]
  },
  {
   "cell_type": "markdown",
   "metadata": {},
   "source": [
    "Quick Sort\n",
    "--"
   ]
  },
  {
   "cell_type": "code",
   "execution_count": 74,
   "metadata": {},
   "outputs": [],
   "source": [
    "def quick_sort(arr: []):\n",
    "    def partition(left, right):\n",
    "        if left == right:\n",
    "            return\n",
    "        \n",
    "        pivot, right = right, right-1\n",
    "        while True:\n",
    "            for l in range(left, pivot+1):\n",
    "                left = l\n",
    "                if arr[l] > arr[pivot]:\n",
    "                    break\n",
    "            for r in range(right, left-1, -1):\n",
    "                right = r\n",
    "                if arr[r] < arr[pivot]:\n",
    "                    break\n",
    "            if left >= right:\n",
    "                break\n",
    "            arr[left], arr[right] = arr[right], arr[left]\n",
    "        if left < pivot:\n",
    "            arr[left], arr[pivot] = arr[pivot], arr[left]\n",
    "        return left\n",
    "    \n",
    "    # In case too many recursive calls, stack overflow will occur.\n",
    "    def sort_rec(left, right):\n",
    "        if left < right:\n",
    "            pivot = partition(left, right)\n",
    "            sort_rec(left, pivot-1)\n",
    "            sort_rec(pivot+1, right)\n",
    "    \n",
    "    # sort_rec() -> while loop with \"queue\"\n",
    "    def sort():\n",
    "        queue = []  # Quick sort uses \"queue\".\n",
    "        queue.append((0, len(arr)-1))\n",
    "        while queue:\n",
    "            left, right = queue.pop(0)\n",
    "            if left < right:\n",
    "                pivot = partition(left, right)\n",
    "                queue.append((left, pivot-1))\n",
    "                queue.append((pivot+1, right))\n",
    "        \n",
    "    # sort_rec(0, len(arr)-1)\n",
    "    sort()"
   ]
  },
  {
   "cell_type": "code",
   "execution_count": 75,
   "metadata": {},
   "outputs": [
    {
     "name": "stdout",
     "output_type": "stream",
     "text": [
      "[0, 1, 2, 3, 4, 5, 6, 7, 8, 9]\n"
     ]
    }
   ],
   "source": [
    "x = [*sample]\n",
    "quick_sort(x)\n",
    "y = x\n",
    "print(y)"
   ]
  },
  {
   "cell_type": "code",
   "execution_count": 73,
   "metadata": {},
   "outputs": [
    {
     "name": "stdout",
     "output_type": "stream",
     "text": [
      "[0, 1, 2, 3, 4, 5, 6, 7, 8, 9]\n"
     ]
    }
   ],
   "source": [
    "# The worst : Already sorted or Sorted in reverse -> n^2\n",
    "x = [*range(10)]\n",
    "quick_sort(x)\n",
    "y = x\n",
    "print(y)"
   ]
  },
  {
   "cell_type": "markdown",
   "metadata": {},
   "source": [
    "Benchmark\n",
    "--"
   ]
  },
  {
   "cell_type": "code",
   "execution_count": 35,
   "metadata": {},
   "outputs": [],
   "source": [
    "import random"
   ]
  },
  {
   "cell_type": "code",
   "execution_count": 137,
   "metadata": {},
   "outputs": [],
   "source": [
    "N = 15000"
   ]
  },
  {
   "cell_type": "markdown",
   "metadata": {},
   "source": [
    "1) Array, Random\n",
    "--"
   ]
  },
  {
   "cell_type": "code",
   "execution_count": 138,
   "metadata": {},
   "outputs": [],
   "source": [
    "random_arr = random.sample(range(N), N)"
   ]
  },
  {
   "cell_type": "code",
   "execution_count": 139,
   "metadata": {},
   "outputs": [
    {
     "name": "stdout",
     "output_type": "stream",
     "text": [
      "Wall time: 2.99 ms\n"
     ]
    }
   ],
   "source": [
    "%%time\n",
    "x = [*random_arr]\n",
    "y = sorted(x)  # Tim Sort = Insertion Sort + Merge Sort"
   ]
  },
  {
   "cell_type": "code",
   "execution_count": 140,
   "metadata": {},
   "outputs": [
    {
     "name": "stdout",
     "output_type": "stream",
     "text": [
      "Wall time: 92.8 ms\n"
     ]
    }
   ],
   "source": [
    "%%time\n",
    "x = [*random_arr]\n",
    "heap_sort(x)\n",
    "y = x"
   ]
  },
  {
   "cell_type": "code",
   "execution_count": 141,
   "metadata": {},
   "outputs": [
    {
     "name": "stdout",
     "output_type": "stream",
     "text": [
      "Wall time: 64.1 ms\n"
     ]
    }
   ],
   "source": [
    "%%time\n",
    "x = [*random_arr]\n",
    "y = merge_sort(x)"
   ]
  },
  {
   "cell_type": "code",
   "execution_count": 142,
   "metadata": {},
   "outputs": [
    {
     "name": "stdout",
     "output_type": "stream",
     "text": [
      "Wall time: 87.3 ms\n"
     ]
    }
   ],
   "source": [
    "%%time\n",
    "x = [*random_arr]\n",
    "quick_sort(x)\n",
    "y = x"
   ]
  },
  {
   "cell_type": "code",
   "execution_count": 143,
   "metadata": {},
   "outputs": [
    {
     "name": "stdout",
     "output_type": "stream",
     "text": [
      "Wall time: 8.72 s\n"
     ]
    }
   ],
   "source": [
    "%%time\n",
    "x = [*random_arr]\n",
    "insertion_sort(x)\n",
    "y = x"
   ]
  },
  {
   "cell_type": "code",
   "execution_count": 144,
   "metadata": {},
   "outputs": [
    {
     "name": "stdout",
     "output_type": "stream",
     "text": [
      "Wall time: 7.74 s\n"
     ]
    }
   ],
   "source": [
    "%%time\n",
    "x = [*random_arr]\n",
    "selection_sort(x)\n",
    "y = x"
   ]
  },
  {
   "cell_type": "code",
   "execution_count": 145,
   "metadata": {},
   "outputs": [
    {
     "name": "stdout",
     "output_type": "stream",
     "text": [
      "Wall time: 23.9 s\n"
     ]
    }
   ],
   "source": [
    "%%time\n",
    "x = [*random_arr]\n",
    "bubble_sort(x)\n",
    "y = x"
   ]
  },
  {
   "cell_type": "markdown",
   "metadata": {},
   "source": [
    "2) Array, Sorted\n",
    "--"
   ]
  },
  {
   "cell_type": "code",
   "execution_count": 146,
   "metadata": {},
   "outputs": [],
   "source": [
    "sorted_arr = [*range(N)]"
   ]
  },
  {
   "cell_type": "code",
   "execution_count": 147,
   "metadata": {},
   "outputs": [
    {
     "name": "stdout",
     "output_type": "stream",
     "text": [
      "Wall time: 129 ms\n"
     ]
    }
   ],
   "source": [
    "%%time\n",
    "x = [*sorted_arr]\n",
    "heap_sort(x)\n",
    "y = x"
   ]
  },
  {
   "cell_type": "code",
   "execution_count": 148,
   "metadata": {},
   "outputs": [
    {
     "name": "stdout",
     "output_type": "stream",
     "text": [
      "Wall time: 53.9 ms\n"
     ]
    }
   ],
   "source": [
    "%%time\n",
    "x = [*sorted_arr]\n",
    "y = merge_sort(x)"
   ]
  },
  {
   "cell_type": "code",
   "execution_count": 149,
   "metadata": {},
   "outputs": [
    {
     "name": "stdout",
     "output_type": "stream",
     "text": [
      "Wall time: 9.39 s\n"
     ]
    }
   ],
   "source": [
    "%%time\n",
    "x = [*sorted_arr]\n",
    "quick_sort(x)\n",
    "y = x"
   ]
  },
  {
   "cell_type": "code",
   "execution_count": 150,
   "metadata": {},
   "outputs": [
    {
     "name": "stdout",
     "output_type": "stream",
     "text": [
      "Wall time: 13 ms\n"
     ]
    }
   ],
   "source": [
    "%%time\n",
    "x = [*sorted_arr]\n",
    "insertion_sort(x)\n",
    "y = x"
   ]
  },
  {
   "cell_type": "code",
   "execution_count": 151,
   "metadata": {},
   "outputs": [
    {
     "name": "stdout",
     "output_type": "stream",
     "text": [
      "Wall time: 7.79 s\n"
     ]
    }
   ],
   "source": [
    "%%time\n",
    "x = [*sorted_arr]\n",
    "selection_sort(x)\n",
    "y = x"
   ]
  },
  {
   "cell_type": "code",
   "execution_count": 152,
   "metadata": {},
   "outputs": [
    {
     "name": "stdout",
     "output_type": "stream",
     "text": [
      "Wall time: 997 µs\n"
     ]
    }
   ],
   "source": [
    "%%time\n",
    "x = [*sorted_arr]\n",
    "bubble_sort(x)\n",
    "y = x"
   ]
  },
  {
   "cell_type": "markdown",
   "metadata": {},
   "source": [
    "3) Array, Sorted in reverse\n",
    "--"
   ]
  },
  {
   "cell_type": "code",
   "execution_count": 153,
   "metadata": {},
   "outputs": [],
   "source": [
    "sorted_in_reverse_arr = [*range(N)[::-1]]"
   ]
  },
  {
   "cell_type": "code",
   "execution_count": 154,
   "metadata": {},
   "outputs": [
    {
     "name": "stdout",
     "output_type": "stream",
     "text": [
      "Wall time: 84.8 ms\n"
     ]
    }
   ],
   "source": [
    "%%time\n",
    "x = [*sorted_in_reverse_arr]\n",
    "heap_sort(x)\n",
    "y = x"
   ]
  },
  {
   "cell_type": "code",
   "execution_count": 155,
   "metadata": {},
   "outputs": [
    {
     "name": "stdout",
     "output_type": "stream",
     "text": [
      "Wall time: 53.9 ms\n"
     ]
    }
   ],
   "source": [
    "%%time\n",
    "x = [*sorted_in_reverse_arr]\n",
    "y = merge_sort(x)"
   ]
  },
  {
   "cell_type": "code",
   "execution_count": 156,
   "metadata": {},
   "outputs": [
    {
     "name": "stdout",
     "output_type": "stream",
     "text": [
      "Wall time: 8.61 s\n"
     ]
    }
   ],
   "source": [
    "%%time\n",
    "x = [*sorted_in_reverse_arr]\n",
    "quick_sort(x)\n",
    "y = x"
   ]
  },
  {
   "cell_type": "code",
   "execution_count": 157,
   "metadata": {},
   "outputs": [
    {
     "name": "stdout",
     "output_type": "stream",
     "text": [
      "Wall time: 18.3 s\n"
     ]
    }
   ],
   "source": [
    "%%time\n",
    "x = [*sorted_in_reverse_arr]\n",
    "y = insertion_sort(x)"
   ]
  },
  {
   "cell_type": "code",
   "execution_count": 158,
   "metadata": {},
   "outputs": [
    {
     "name": "stdout",
     "output_type": "stream",
     "text": [
      "Wall time: 8.67 s\n"
     ]
    }
   ],
   "source": [
    "%%time\n",
    "x = [*sorted_in_reverse_arr]\n",
    "y = selection_sort(x)"
   ]
  },
  {
   "cell_type": "code",
   "execution_count": 159,
   "metadata": {},
   "outputs": [
    {
     "name": "stdout",
     "output_type": "stream",
     "text": [
      "Wall time: 32.9 s\n"
     ]
    }
   ],
   "source": [
    "%%time\n",
    "x = [*sorted_in_reverse_arr]\n",
    "y = bubble_sort(x)"
   ]
  },
  {
   "cell_type": "code",
   "execution_count": null,
   "metadata": {},
   "outputs": [],
   "source": []
  },
  {
   "cell_type": "markdown",
   "metadata": {},
   "source": [
    "Reference\n",
    "--"
   ]
  },
  {
   "cell_type": "code",
   "execution_count": 129,
   "metadata": {},
   "outputs": [],
   "source": [
    "# This function takes last element as pivot, places \n",
    "# the pivot element at its correct position in sorted \n",
    "# array, and places all smaller (smaller than pivot) \n",
    "# to left of pivot and all greater elements to right \n",
    "# of pivot \n",
    "def partition(arr,low,high): \n",
    "    i = ( low-1 )         # index of smaller element \n",
    "    pivot = arr[high]     # pivot \n",
    "  \n",
    "    for j in range(low , high): \n",
    "  \n",
    "        # If current element is smaller than or \n",
    "        # equal to pivot \n",
    "        if   arr[j] <= pivot: \n",
    "          \n",
    "            # increment index of smaller element \n",
    "            i = i+1 \n",
    "            arr[i],arr[j] = arr[j],arr[i] \n",
    "  \n",
    "    arr[i+1],arr[high] = arr[high],arr[i+1] \n",
    "    return ( i+1 ) \n",
    "  \n",
    "# The main function that implements QuickSort \n",
    "# arr[] --> Array to be sorted, \n",
    "# low  --> Starting index, \n",
    "# high  --> Ending index \n",
    "  \n",
    "# Function to do Quick sort \n",
    "def quickSort(arr,low,high): \n",
    "    if low < high: \n",
    "  \n",
    "        # pi is partitioning index, arr[p] is now \n",
    "        # at right place \n",
    "        pi = partition(arr,low,high) \n",
    "  \n",
    "        # Separately sort elements before \n",
    "        # partition and after partition \n",
    "        quickSort(arr, low, pi-1) \n",
    "        quickSort(arr, pi+1, high) "
   ]
  },
  {
   "cell_type": "code",
   "execution_count": 130,
   "metadata": {},
   "outputs": [
    {
     "name": "stdout",
     "output_type": "stream",
     "text": [
      "Sorted array is:\n",
      "1\n",
      "5\n",
      "7\n",
      "8\n",
      "9\n",
      "10\n"
     ]
    }
   ],
   "source": [
    "# Driver code to test above \n",
    "arr = [10, 7, 8, 9, 1, 5] \n",
    "n = len(arr) \n",
    "quickSort(arr,0,n-1) \n",
    "print (\"Sorted array is:\") \n",
    "for i in range(n): \n",
    "    print (\"%d\" %arr[i]), \n",
    "  \n",
    "# This code is contributed by Mohit Kumra "
   ]
  },
  {
   "cell_type": "code",
   "execution_count": 131,
   "metadata": {},
   "outputs": [],
   "source": [
    "# Function to do Quick sort \n",
    "# arr[] --> Array to be sorted, \n",
    "# l  --> Starting index, \n",
    "# h  --> Ending index \n",
    "def quickSortIterative(arr,l,h): \n",
    "  \n",
    "    # Create an auxiliary stack \n",
    "    size = h - l + 1\n",
    "    stack = [0] * (size) \n",
    "  \n",
    "    # initialize top of stack \n",
    "    top = -1\n",
    "  \n",
    "    # push initial values of l and h to stack \n",
    "    top = top + 1\n",
    "    stack[top] = l \n",
    "    top = top + 1\n",
    "    stack[top] = h \n",
    "  \n",
    "    # Keep popping from stack while is not empty \n",
    "    while top >= 0: \n",
    "  \n",
    "        # Pop h and l \n",
    "        h = stack[top] \n",
    "        top = top - 1\n",
    "        l = stack[top] \n",
    "        top = top - 1\n",
    "  \n",
    "        # Set pivot element at its correct position in \n",
    "        # sorted array \n",
    "        p = partition( arr, l, h ) \n",
    "  \n",
    "        # If there are elements on left side of pivot, \n",
    "        # then push left side to stack \n",
    "        if p-1 > l: \n",
    "            top = top + 1\n",
    "            stack[top] = l \n",
    "            top = top + 1\n",
    "            stack[top] = p - 1\n",
    "  \n",
    "        # If there are elements on right side of pivot, \n",
    "        # then push right side to stack \n",
    "        if p+1 < h: \n",
    "            top = top + 1\n",
    "            stack[top] = p + 1\n",
    "            top = top + 1\n",
    "            stack[top] = h "
   ]
  },
  {
   "cell_type": "code",
   "execution_count": 132,
   "metadata": {},
   "outputs": [
    {
     "name": "stdout",
     "output_type": "stream",
     "text": [
      "Sorted array is:\n",
      "1\n",
      "2\n",
      "2\n",
      "3\n",
      "3\n",
      "3\n",
      "4\n",
      "5\n"
     ]
    }
   ],
   "source": [
    "# Driver code to test above \n",
    "arr = [4, 3, 5, 2, 1, 3, 2, 3] \n",
    "n = len(arr) \n",
    "quickSortIterative(arr, 0, n-1) \n",
    "print (\"Sorted array is:\") \n",
    "for i in range(n): \n",
    "    print (\"%d\" %arr[i]), \n",
    "  \n",
    "# This code is contributed by Mohit Kumra "
   ]
  },
  {
   "cell_type": "code",
   "execution_count": null,
   "metadata": {},
   "outputs": [],
   "source": []
  }
 ],
 "metadata": {
  "kernelspec": {
   "display_name": "Python 3",
   "language": "python",
   "name": "python3"
  },
  "language_info": {
   "codemirror_mode": {
    "name": "ipython",
    "version": 3
   },
   "file_extension": ".py",
   "mimetype": "text/x-python",
   "name": "python",
   "nbconvert_exporter": "python",
   "pygments_lexer": "ipython3",
   "version": "3.7.3"
  }
 },
 "nbformat": 4,
 "nbformat_minor": 2
}
