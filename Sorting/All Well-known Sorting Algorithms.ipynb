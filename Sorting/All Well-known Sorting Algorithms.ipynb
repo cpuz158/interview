{
 "cells": [
  {
   "cell_type": "markdown",
   "metadata": {},
   "source": [
    "Reference\n",
    "--\n",
    "\n",
    "- **Time Complexity (BigO)**, Cheet Sheet : http://bigocheatsheet.com/\n",
    "\n",
    "- Heap tree visualization : https://visualgo.net/ko/heap\n",
    "\n",
    "- Time Complexity of Python basic functions : https://wiki.python.org/moin/TimeComplexity"
   ]
  },
  {
   "cell_type": "code",
   "execution_count": 50,
   "metadata": {},
   "outputs": [],
   "source": [
    "sample = [0, 5, 9, 3, 1, 2, 8, 4, 7, 6]"
   ]
  },
  {
   "cell_type": "markdown",
   "metadata": {},
   "source": [
    "Bubble Sort\n",
    "--"
   ]
  },
  {
   "cell_type": "code",
   "execution_count": 51,
   "metadata": {},
   "outputs": [],
   "source": [
    "def bubble_sort(arr: []):\n",
    "    n = len(arr)\n",
    "    for i in range(n):\n",
    "        stop = True\n",
    "        for j in range(n-i-1):\n",
    "            if arr[j] > arr[j+1] :\n",
    "                arr[j], arr[j+1] = arr[j+1], arr[j]\n",
    "                stop = False\n",
    "        if stop:\n",
    "            break"
   ]
  },
  {
   "cell_type": "code",
   "execution_count": 52,
   "metadata": {},
   "outputs": [
    {
     "name": "stdout",
     "output_type": "stream",
     "text": [
      "[0, 1, 2, 3, 4, 5, 6, 7, 8, 9]\n"
     ]
    }
   ],
   "source": [
    "# The average\n",
    "x = [*sample]\n",
    "bubble_sort(x)\n",
    "y = x\n",
    "print(y)"
   ]
  },
  {
   "cell_type": "code",
   "execution_count": 53,
   "metadata": {},
   "outputs": [
    {
     "name": "stdout",
     "output_type": "stream",
     "text": [
      "[0, 1, 2, 3, 4, 5, 6, 7, 8, 9]\n"
     ]
    }
   ],
   "source": [
    "# The best : Already sorted (stop = True)\n",
    "x = [*range(10)]\n",
    "bubble_sort(x)\n",
    "y = x\n",
    "print(y)"
   ]
  },
  {
   "cell_type": "code",
   "execution_count": 54,
   "metadata": {},
   "outputs": [
    {
     "name": "stdout",
     "output_type": "stream",
     "text": [
      "[0, 1, 2, 3, 4, 5, 6, 7, 8, 9]\n"
     ]
    }
   ],
   "source": [
    "# The worst : Sorted in reverse\n",
    "# range(9, -1, -1)\n",
    "x = [*range(10)[::-1]]\n",
    "bubble_sort(x)\n",
    "y = x\n",
    "print(y)"
   ]
  },
  {
   "cell_type": "markdown",
   "metadata": {},
   "source": [
    "Selection Sort\n",
    "--"
   ]
  },
  {
   "cell_type": "code",
   "execution_count": 55,
   "metadata": {},
   "outputs": [],
   "source": [
    "def selection_sort(arr: []):\n",
    "    n = len(arr)\n",
    "    for i in range(n):\n",
    "        m = i  # Minimum\n",
    "        for j in range(i+1, n):\n",
    "            if arr[m] > arr[j]:\n",
    "                m = j\n",
    "        if m != i:\n",
    "            arr[i], arr[m] = arr[m], arr[i]"
   ]
  },
  {
   "cell_type": "code",
   "execution_count": 56,
   "metadata": {},
   "outputs": [
    {
     "name": "stdout",
     "output_type": "stream",
     "text": [
      "[0, 1, 2, 3, 4, 5, 6, 7, 8, 9]\n"
     ]
    }
   ],
   "source": [
    "x = [*sample]\n",
    "selection_sort(x)\n",
    "y = x\n",
    "print(y)"
   ]
  },
  {
   "cell_type": "markdown",
   "metadata": {},
   "source": [
    "Insertion Sort\n",
    "--"
   ]
  },
  {
   "cell_type": "code",
   "execution_count": 57,
   "metadata": {},
   "outputs": [],
   "source": [
    "def insertion_sort(arr: []):\n",
    "    n = len(arr)\n",
    "    for i in range(1, n):  # Unsorted\n",
    "        key = i\n",
    "        for j in range(i)[::-1]:  # Sorted\n",
    "            if arr[j] <= arr[key]:\n",
    "                break\n",
    "            arr[j], arr[key] = arr[key], arr[j]\n",
    "            key = j"
   ]
  },
  {
   "cell_type": "code",
   "execution_count": 58,
   "metadata": {},
   "outputs": [
    {
     "name": "stdout",
     "output_type": "stream",
     "text": [
      "[0, 1, 2, 3, 4, 5, 6, 7, 8, 9]\n"
     ]
    }
   ],
   "source": [
    "# The average\n",
    "x = [*sample]\n",
    "insertion_sort(x)\n",
    "y = x\n",
    "print(y)"
   ]
  },
  {
   "cell_type": "code",
   "execution_count": 59,
   "metadata": {},
   "outputs": [
    {
     "name": "stdout",
     "output_type": "stream",
     "text": [
      "[0, 1, 2, 3, 4, 5, 6, 7, 8, 9]\n"
     ]
    }
   ],
   "source": [
    "# The best : Already sorted\n",
    "x = [*range(10)]\n",
    "insertion_sort(x)\n",
    "y = x\n",
    "print(y)"
   ]
  },
  {
   "cell_type": "code",
   "execution_count": 60,
   "metadata": {},
   "outputs": [
    {
     "name": "stdout",
     "output_type": "stream",
     "text": [
      "[0, 1, 2, 3, 4, 5, 6, 7, 8, 9]\n"
     ]
    }
   ],
   "source": [
    "# The worst : Sorted in reverse\n",
    "# arr = list(range(9, 0, -1))\n",
    "x = [*range(10)[::-1]]\n",
    "insertion_sort(x)\n",
    "y = x\n",
    "print(y)"
   ]
  },
  {
   "cell_type": "markdown",
   "metadata": {},
   "source": [
    "Heap Sort\n",
    "--"
   ]
  },
  {
   "cell_type": "code",
   "execution_count": 61,
   "metadata": {},
   "outputs": [],
   "source": [
    "def get_binary_tree_map(arr: []):\n",
    "    n = len(arr)\n",
    "    tree, idx = [], 0\n",
    "    for i in range(n):\n",
    "        size = min(2**i, n-idx)\n",
    "        tree.append((idx, size))\n",
    "        idx += size\n",
    "        if idx >= n:\n",
    "            return tree"
   ]
  },
  {
   "cell_type": "code",
   "execution_count": 62,
   "metadata": {},
   "outputs": [
    {
     "name": "stdout",
     "output_type": "stream",
     "text": [
      "[(0, 1), (1, 2), (3, 4), (7, 3)]\n"
     ]
    }
   ],
   "source": [
    "x = [*range(10)]\n",
    "y = get_binary_tree_map(x)\n",
    "print(y)  # start_index, size"
   ]
  },
  {
   "cell_type": "code",
   "execution_count": 63,
   "metadata": {},
   "outputs": [],
   "source": [
    "def heap_sort(arr: []):\n",
    "    _n = len(arr)\n",
    "    \n",
    "    def arr_to_max_heap(n):\n",
    "        for i in range(n):\n",
    "            while i:\n",
    "                p = (i//2 + i%2) - 1\n",
    "                if arr[p] >= arr[i]:\n",
    "                    break\n",
    "                arr[p], arr[i] = arr[i], arr[p]\n",
    "                i = p\n",
    "    \n",
    "    def heapify(n):\n",
    "        i = 0\n",
    "        while i < n:\n",
    "            left = i * 2 + 1\n",
    "            right = left + 1\n",
    "            swap = i\n",
    "\n",
    "            if left < n and arr[left] > arr[swap]:\n",
    "                swap = left\n",
    "            if right < n and arr[right] > arr[swap]:\n",
    "                swap = right\n",
    "            if i == swap:\n",
    "                break\n",
    "\n",
    "            arr[swap], arr[i] = arr[i], arr[swap]\n",
    "            i = swap\n",
    "                \n",
    "    # In-place sorting\n",
    "    def sort(n):\n",
    "        for i in range(1, n+1):\n",
    "            arr[0], arr[-i] = arr[-i], arr[0]\n",
    "            heapify(n-i)\n",
    "    \n",
    "    arr_to_max_heap(_n)\n",
    "    sort(_n)"
   ]
  },
  {
   "cell_type": "code",
   "execution_count": 64,
   "metadata": {},
   "outputs": [
    {
     "name": "stdout",
     "output_type": "stream",
     "text": [
      "[0, 1, 2, 3, 4, 5, 6, 7, 8, 9]\n"
     ]
    }
   ],
   "source": [
    "# As always -> n log n\n",
    "x = [*sample]\n",
    "heap_sort(x)\n",
    "y = x\n",
    "print(y)"
   ]
  },
  {
   "cell_type": "markdown",
   "metadata": {},
   "source": [
    "Merge Sort\n",
    "--"
   ]
  },
  {
   "cell_type": "code",
   "execution_count": 65,
   "metadata": {},
   "outputs": [],
   "source": [
    "# Array -> Split -> Sub arrays\n",
    "def merge_sort(arr: []):\n",
    "    def merge(left: [], right: []):\n",
    "        merged = []\n",
    "        l, nl, r, nr = 0, len(left), 0, len(right)\n",
    "        while l < nl or r < nr:\n",
    "            if l == nl or (r < nr and left[l] > right[r]):\n",
    "                merged.append(right[r])\n",
    "                r += 1\n",
    "            else:\n",
    "                merged.append(left[l])\n",
    "                l += 1\n",
    "        return merged\n",
    "    \n",
    "    def sort(subarr: [], n):\n",
    "        m = n//2\n",
    "        left, right = subarr[:m], subarr[m:]\n",
    "        if n > 2:\n",
    "            # print('sort-l', left)\n",
    "            # print('sort-r', right)\n",
    "            left, right = sort(left, len(left)), sort(right, len(right))\n",
    "        return merge(left, right)\n",
    "    \n",
    "    arr = sort(arr, len(arr))\n",
    "    return arr"
   ]
  },
  {
   "cell_type": "code",
   "execution_count": 66,
   "metadata": {},
   "outputs": [
    {
     "name": "stdout",
     "output_type": "stream",
     "text": [
      "sort-l [0, 5, 9, 3, 1]\n",
      "sort-r [2, 8, 4, 7, 6]\n",
      "sort-l [0, 5]\n",
      "sort-r [9, 3, 1]\n",
      "sort-l [9]\n",
      "sort-r [3, 1]\n",
      "sort-l [2, 8]\n",
      "sort-r [4, 7, 6]\n",
      "sort-l [4]\n",
      "sort-r [7, 6]\n",
      "[0, 1, 2, 3, 4, 5, 6, 7, 8, 9]\n"
     ]
    }
   ],
   "source": [
    "x = [*sample]\n",
    "y = merge_sort(x)\n",
    "print(y)"
   ]
  },
  {
   "cell_type": "code",
   "execution_count": 106,
   "metadata": {},
   "outputs": [],
   "source": [
    "# Array -> Split -> Indices\n",
    "def merge_sort(arr: []):\n",
    "    def merge(s, m, e):\n",
    "        merged = []\n",
    "        l, r = s, m+1\n",
    "        while l <= m or r <= e:\n",
    "            if l > m  or (r <= e and arr[l] > arr[r]):\n",
    "                merged.append(arr[r])\n",
    "                r += 1\n",
    "            else:\n",
    "                merged.append(arr[l])\n",
    "                l += 1\n",
    "        for i in range(len(merged)):\n",
    "            arr[s+i] = merged[i]\n",
    "        print('merged', merged)\n",
    "    \n",
    "    # Recursive\n",
    "    def sort_rec(s, n):\n",
    "        m = n//2\n",
    "        if n > 2:\n",
    "            # print('sort-l', arr[s:s+m])\n",
    "            sort(s, m)\n",
    "            # print('sort-r', arr[s+m:s+n])\n",
    "            sort(s+m, n-m)\n",
    "        merge(s, s+m-1, s+n-1)\n",
    "    \n",
    "    # Non-recursive\n",
    "    def sort():\n",
    "        stack = []  # Merge sort uses \"stack\".\n",
    "        stack.append((0, len(arr)))\n",
    "        while stack:\n",
    "            s, n = stack.pop(-1)\n",
    "            m = n//2\n",
    "            print('sort', arr[s:s+m])\n",
    "            if n > 2:\n",
    "                stack.append((s+m, n-m))\n",
    "                stack.append((s, m))\n",
    "                continue\n",
    "            merge(s, s+m-1, s+n-1)\n",
    "    \n",
    "    # sort_rec(0, len(arr))\n",
    "    sort()"
   ]
  },
  {
   "cell_type": "code",
   "execution_count": 107,
   "metadata": {},
   "outputs": [
    {
     "name": "stdout",
     "output_type": "stream",
     "text": [
      "sort [0, 5, 9, 3, 1]\n",
      "merged [0, 2, 5, 8, 4, 7, 6, 9, 3, 1]\n",
      "sort [0, 2]\n",
      "merged [0, 2, 5, 8, 4]\n",
      "sort [0]\n",
      "merged [0, 2]\n",
      "sort [5]\n",
      "merged [5, 8, 4]\n",
      "sort []\n",
      "merged [5]\n",
      "sort [8]\n",
      "merged [4, 8]\n",
      "sort [7, 6]\n",
      "merged [7, 6, 9, 3, 1]\n",
      "sort [7]\n",
      "merged [6, 7]\n",
      "sort [9]\n",
      "merged [3, 1, 9]\n",
      "sort []\n",
      "merged [3]\n",
      "sort [1]\n",
      "merged [1, 9]\n",
      "[0, 2, 5, 4, 8, 6, 7, 3, 1, 9]\n"
     ]
    }
   ],
   "source": [
    "x = [*sample]\n",
    "merge_sort(x)\n",
    "y = x\n",
    "print(y)"
   ]
  },
  {
   "cell_type": "markdown",
   "metadata": {},
   "source": [
    "Quick Sort\n",
    "--"
   ]
  },
  {
   "cell_type": "code",
   "execution_count": 97,
   "metadata": {},
   "outputs": [],
   "source": [
    "def quick_sort(arr: []):\n",
    "    def partition(left, right):\n",
    "        if left == right:\n",
    "            return\n",
    "        \n",
    "        pivot, right = right, right-1\n",
    "        while True:\n",
    "            for l in range(left, pivot+1):\n",
    "                left = l\n",
    "                if arr[l] > arr[pivot]:\n",
    "                    break\n",
    "            for r in range(right, left-1, -1):\n",
    "                right = r\n",
    "                if arr[r] < arr[pivot]:\n",
    "                    break\n",
    "            if left >= right:\n",
    "                break\n",
    "            arr[left], arr[right] = arr[right], arr[left]\n",
    "        if left < pivot:\n",
    "            arr[left], arr[pivot] = arr[pivot], arr[left]\n",
    "        return left\n",
    "    \n",
    "    # Recursive, In case too many recursive calls, stack overflow will occur.\n",
    "    def sort_rec(left, right):\n",
    "        if left < right:\n",
    "            pivot = partition(left, right)\n",
    "            sort_rec(left, pivot-1)\n",
    "            sort_rec(pivot+1, right)\n",
    "    \n",
    "    # Non-recursive, while loop with \"queue\"\n",
    "    def sort():\n",
    "        queue = []  # Quick sort uses \"queue\".\n",
    "        queue.append((0, len(arr)-1))\n",
    "        while queue:\n",
    "            left, right = queue.pop(0)\n",
    "            if left < right:\n",
    "                pivot = partition(left, right)\n",
    "                queue.append((left, pivot-1))\n",
    "                queue.append((pivot+1, right))\n",
    "        \n",
    "    # sort_rec(0, len(arr)-1)\n",
    "    sort()"
   ]
  },
  {
   "cell_type": "code",
   "execution_count": 70,
   "metadata": {},
   "outputs": [
    {
     "name": "stdout",
     "output_type": "stream",
     "text": [
      "[0, 1, 2, 3, 4, 5, 6, 7, 8, 9]\n"
     ]
    }
   ],
   "source": [
    "x = [*sample]\n",
    "quick_sort(x)\n",
    "y = x\n",
    "print(y)"
   ]
  },
  {
   "cell_type": "code",
   "execution_count": 71,
   "metadata": {},
   "outputs": [
    {
     "name": "stdout",
     "output_type": "stream",
     "text": [
      "[0, 1, 2, 3, 4, 5, 6, 7, 8, 9]\n"
     ]
    }
   ],
   "source": [
    "# The worst : Already sorted or Sorted in reverse -> n^2\n",
    "x = [*range(10)]\n",
    "quick_sort(x)\n",
    "y = x\n",
    "print(y)"
   ]
  },
  {
   "cell_type": "markdown",
   "metadata": {},
   "source": [
    "Benchmark\n",
    "--"
   ]
  },
  {
   "cell_type": "code",
   "execution_count": 73,
   "metadata": {},
   "outputs": [],
   "source": [
    "import random"
   ]
  },
  {
   "cell_type": "code",
   "execution_count": 74,
   "metadata": {},
   "outputs": [],
   "source": [
    "N = 15000"
   ]
  },
  {
   "cell_type": "markdown",
   "metadata": {},
   "source": [
    "1) Array, Random\n",
    "--"
   ]
  },
  {
   "cell_type": "code",
   "execution_count": 75,
   "metadata": {},
   "outputs": [],
   "source": [
    "random_arr = random.sample(range(N), N)"
   ]
  },
  {
   "cell_type": "code",
   "execution_count": 76,
   "metadata": {},
   "outputs": [
    {
     "name": "stdout",
     "output_type": "stream",
     "text": [
      "Wall time: 1.99 ms\n"
     ]
    }
   ],
   "source": [
    "%%time\n",
    "x = [*random_arr]\n",
    "y = sorted(x)  # Written in C, Tim Sort = Insertion Sort + Merge Sort"
   ]
  },
  {
   "cell_type": "code",
   "execution_count": 77,
   "metadata": {},
   "outputs": [
    {
     "name": "stdout",
     "output_type": "stream",
     "text": [
      "Wall time: 96.3 ms\n"
     ]
    }
   ],
   "source": [
    "%%time\n",
    "x = [*random_arr]\n",
    "heap_sort(x)\n",
    "y = x"
   ]
  },
  {
   "cell_type": "code",
   "execution_count": 78,
   "metadata": {},
   "outputs": [
    {
     "name": "stdout",
     "output_type": "stream",
     "text": [
      "Wall time: 88.8 ms\n"
     ]
    }
   ],
   "source": [
    "%%time\n",
    "x = [*random_arr]\n",
    "y = merge_sort(x)"
   ]
  },
  {
   "cell_type": "code",
   "execution_count": 79,
   "metadata": {},
   "outputs": [
    {
     "name": "stdout",
     "output_type": "stream",
     "text": [
      "Wall time: 86.8 ms\n"
     ]
    }
   ],
   "source": [
    "%%time\n",
    "x = [*random_arr]\n",
    "quick_sort(x)\n",
    "y = x"
   ]
  },
  {
   "cell_type": "code",
   "execution_count": 80,
   "metadata": {},
   "outputs": [
    {
     "name": "stdout",
     "output_type": "stream",
     "text": [
      "Wall time: 8.89 s\n"
     ]
    }
   ],
   "source": [
    "%%time\n",
    "x = [*random_arr]\n",
    "insertion_sort(x)\n",
    "y = x"
   ]
  },
  {
   "cell_type": "code",
   "execution_count": 81,
   "metadata": {},
   "outputs": [
    {
     "name": "stdout",
     "output_type": "stream",
     "text": [
      "Wall time: 8.18 s\n"
     ]
    }
   ],
   "source": [
    "%%time\n",
    "x = [*random_arr]\n",
    "selection_sort(x)\n",
    "y = x"
   ]
  },
  {
   "cell_type": "code",
   "execution_count": 82,
   "metadata": {},
   "outputs": [
    {
     "name": "stdout",
     "output_type": "stream",
     "text": [
      "Wall time: 22.2 s\n"
     ]
    }
   ],
   "source": [
    "%%time\n",
    "x = [*random_arr]\n",
    "bubble_sort(x)\n",
    "y = x"
   ]
  },
  {
   "cell_type": "markdown",
   "metadata": {},
   "source": [
    "2) Array, Sorted\n",
    "--"
   ]
  },
  {
   "cell_type": "code",
   "execution_count": 83,
   "metadata": {},
   "outputs": [],
   "source": [
    "sorted_arr = [*range(N)]"
   ]
  },
  {
   "cell_type": "code",
   "execution_count": 84,
   "metadata": {},
   "outputs": [
    {
     "name": "stdout",
     "output_type": "stream",
     "text": [
      "Wall time: 129 ms\n"
     ]
    }
   ],
   "source": [
    "%%time\n",
    "x = [*sorted_arr]\n",
    "heap_sort(x)\n",
    "y = x"
   ]
  },
  {
   "cell_type": "code",
   "execution_count": 85,
   "metadata": {},
   "outputs": [
    {
     "name": "stdout",
     "output_type": "stream",
     "text": [
      "Wall time: 82.8 ms\n"
     ]
    }
   ],
   "source": [
    "%%time\n",
    "x = [*sorted_arr]\n",
    "y = merge_sort(x)"
   ]
  },
  {
   "cell_type": "code",
   "execution_count": 86,
   "metadata": {},
   "outputs": [
    {
     "name": "stdout",
     "output_type": "stream",
     "text": [
      "Wall time: 8.52 s\n"
     ]
    }
   ],
   "source": [
    "%%time\n",
    "x = [*sorted_arr]\n",
    "quick_sort(x)\n",
    "y = x"
   ]
  },
  {
   "cell_type": "code",
   "execution_count": 87,
   "metadata": {},
   "outputs": [
    {
     "name": "stdout",
     "output_type": "stream",
     "text": [
      "Wall time: 14.9 ms\n"
     ]
    }
   ],
   "source": [
    "%%time\n",
    "x = [*sorted_arr]\n",
    "insertion_sort(x)\n",
    "y = x"
   ]
  },
  {
   "cell_type": "code",
   "execution_count": 88,
   "metadata": {},
   "outputs": [
    {
     "name": "stdout",
     "output_type": "stream",
     "text": [
      "Wall time: 7.61 s\n"
     ]
    }
   ],
   "source": [
    "%%time\n",
    "x = [*sorted_arr]\n",
    "selection_sort(x)\n",
    "y = x"
   ]
  },
  {
   "cell_type": "code",
   "execution_count": 89,
   "metadata": {},
   "outputs": [
    {
     "name": "stdout",
     "output_type": "stream",
     "text": [
      "Wall time: 998 µs\n"
     ]
    }
   ],
   "source": [
    "%%time\n",
    "x = [*sorted_arr]\n",
    "bubble_sort(x)\n",
    "y = x"
   ]
  },
  {
   "cell_type": "markdown",
   "metadata": {},
   "source": [
    "3) Array, Sorted in reverse\n",
    "--"
   ]
  },
  {
   "cell_type": "code",
   "execution_count": 90,
   "metadata": {},
   "outputs": [],
   "source": [
    "sorted_in_reverse_arr = [*range(N)[::-1]]"
   ]
  },
  {
   "cell_type": "code",
   "execution_count": 91,
   "metadata": {},
   "outputs": [
    {
     "name": "stdout",
     "output_type": "stream",
     "text": [
      "Wall time: 87.8 ms\n"
     ]
    }
   ],
   "source": [
    "%%time\n",
    "x = [*sorted_in_reverse_arr]\n",
    "heap_sort(x)\n",
    "y = x"
   ]
  },
  {
   "cell_type": "code",
   "execution_count": 92,
   "metadata": {},
   "outputs": [
    {
     "name": "stdout",
     "output_type": "stream",
     "text": [
      "Wall time: 85.8 ms\n"
     ]
    }
   ],
   "source": [
    "%%time\n",
    "x = [*sorted_in_reverse_arr]\n",
    "y = merge_sort(x)"
   ]
  },
  {
   "cell_type": "code",
   "execution_count": 93,
   "metadata": {},
   "outputs": [
    {
     "name": "stdout",
     "output_type": "stream",
     "text": [
      "Wall time: 8.46 s\n"
     ]
    }
   ],
   "source": [
    "%%time\n",
    "x = [*sorted_in_reverse_arr]\n",
    "quick_sort(x)\n",
    "y = x"
   ]
  },
  {
   "cell_type": "code",
   "execution_count": 94,
   "metadata": {},
   "outputs": [
    {
     "name": "stdout",
     "output_type": "stream",
     "text": [
      "Wall time: 17.5 s\n"
     ]
    }
   ],
   "source": [
    "%%time\n",
    "x = [*sorted_in_reverse_arr]\n",
    "y = insertion_sort(x)"
   ]
  },
  {
   "cell_type": "code",
   "execution_count": 95,
   "metadata": {},
   "outputs": [
    {
     "name": "stdout",
     "output_type": "stream",
     "text": [
      "Wall time: 8.3 s\n"
     ]
    }
   ],
   "source": [
    "%%time\n",
    "x = [*sorted_in_reverse_arr]\n",
    "y = selection_sort(x)"
   ]
  },
  {
   "cell_type": "code",
   "execution_count": 96,
   "metadata": {},
   "outputs": [
    {
     "name": "stdout",
     "output_type": "stream",
     "text": [
      "Wall time: 32.9 s\n"
     ]
    }
   ],
   "source": [
    "%%time\n",
    "x = [*sorted_in_reverse_arr]\n",
    "y = bubble_sort(x)"
   ]
  },
  {
   "cell_type": "markdown",
   "metadata": {},
   "source": [
    "Reference\n",
    "--"
   ]
  },
  {
   "cell_type": "code",
   "execution_count": null,
   "metadata": {},
   "outputs": [],
   "source": []
  }
 ],
 "metadata": {
  "kernelspec": {
   "display_name": "Python 3",
   "language": "python",
   "name": "python3"
  },
  "language_info": {
   "codemirror_mode": {
    "name": "ipython",
    "version": 3
   },
   "file_extension": ".py",
   "mimetype": "text/x-python",
   "name": "python",
   "nbconvert_exporter": "python",
   "pygments_lexer": "ipython3",
   "version": "3.7.3"
  }
 },
 "nbformat": 4,
 "nbformat_minor": 2
}
