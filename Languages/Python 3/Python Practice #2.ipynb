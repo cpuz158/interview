{
 "cells": [
  {
   "cell_type": "code",
   "execution_count": 104,
   "metadata": {},
   "outputs": [],
   "source": [
    "def merge_sort(arr):\n",
    "    def merge(s, m, e):\n",
    "        # print('merge', s, m, e)\n",
    "        merged = []\n",
    "        l, r = s, m + 1\n",
    "        while l <= m or r <= e:\n",
    "            if l > m:\n",
    "                merged.append(arr[r])\n",
    "                r += 1\n",
    "            elif r > e:\n",
    "                merged.append(arr[l])\n",
    "                l += 1\n",
    "            elif arr[l] > arr[r]:\n",
    "                merged.append(arr[r])\n",
    "                r += 1\n",
    "            else: # arr[l] < arr[r]\n",
    "                merged.append(arr[l])\n",
    "                l += 1\n",
    "\n",
    "        # print('merged', merged)\n",
    "        for i in range(len(merged)):\n",
    "            arr[s + i] = merged[i]\n",
    "    \n",
    "    def split(s, e):\n",
    "        m = s + ((e - s) // 2)\n",
    "        stack.append((merge, s, m, e))\n",
    "        if e - s > 1:\n",
    "            stack.append((split, s, m))\n",
    "            stack.append((split, m + 1, e))\n",
    "    \n",
    "    stack = [(split, 0, len(arr) - 1)]\n",
    "    while stack:\n",
    "        pop = stack.pop()\n",
    "        func, args = pop[0], pop[1:]\n",
    "        func(*args) "
   ]
  },
  {
   "cell_type": "code",
   "execution_count": 111,
   "metadata": {},
   "outputs": [
    {
     "name": "stdout",
     "output_type": "stream",
     "text": [
      "Wall time: 797 ms\n"
     ]
    }
   ],
   "source": [
    "%%time\n",
    "import random\n",
    "a = random.sample(range(100000), 100000)\n",
    "# print('unsorted', a)\n",
    "merge_sort(a)\n",
    "# print('sorted', a)"
   ]
  },
  {
   "cell_type": "code",
   "execution_count": 112,
   "metadata": {},
   "outputs": [
    {
     "name": "stdout",
     "output_type": "stream",
     "text": [
      "Wall time: 103 ms\n"
     ]
    }
   ],
   "source": [
    "%%time\n",
    "a = random.sample(range(100000), 100000)\n",
    "a.sort()"
   ]
  },
  {
   "cell_type": "code",
   "execution_count": null,
   "metadata": {},
   "outputs": [],
   "source": []
  }
 ],
 "metadata": {
  "kernelspec": {
   "display_name": "Python 3",
   "language": "python",
   "name": "python3"
  },
  "language_info": {
   "codemirror_mode": {
    "name": "ipython",
    "version": 3
   },
   "file_extension": ".py",
   "mimetype": "text/x-python",
   "name": "python",
   "nbconvert_exporter": "python",
   "pygments_lexer": "ipython3",
   "version": "3.7.6"
  }
 },
 "nbformat": 4,
 "nbformat_minor": 4
}
