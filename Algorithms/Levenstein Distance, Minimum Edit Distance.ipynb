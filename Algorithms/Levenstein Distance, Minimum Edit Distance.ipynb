{
 "cells": [
  {
   "cell_type": "code",
   "execution_count": 304,
   "metadata": {},
   "outputs": [],
   "source": [
    "def minimum_edit_distance(a, b):\n",
    "    d = []  # distance\n",
    "    d.append([i for i in range(len(b) + 1)])\n",
    "    for i in range(1, len(a) + 1):\n",
    "        d.append([i] + ([None] * len(b)))\n",
    "    \n",
    "    a = ' ' + a\n",
    "    b = ' ' + b\n",
    "    \n",
    "    \n",
    "    for i in range(1, len(a)):\n",
    "        for j in range(1, len(b)):\n",
    "            if a[i] == b[j]:\n",
    "                d[i][j] = d[i-1][j-1]\n",
    "            else:\n",
    "                d[i][j] = min(d[i-1][j-1] + 1, d[i][j-1] + 1, d[i-1][j] + 1)\n",
    "                \n",
    "    \n",
    "    return d"
   ]
  },
  {
   "cell_type": "code",
   "execution_count": 305,
   "metadata": {},
   "outputs": [
    {
     "data": {
      "text/plain": [
       "[[0, 1, 2, 3, 4, 5, 6],\n",
       " [1, 1, 2, 3, 4, 5, 6],\n",
       " [2, 2, 2, 3, 4, 5, 6],\n",
       " [3, 3, 2, 3, 4, 5, 6],\n",
       " [4, 4, 3, 3, 4, 5, 6],\n",
       " [5, 5, 4, 4, 3, 4, 5],\n",
       " [6, 6, 5, 4, 4, 4, 5],\n",
       " [7, 7, 6, 5, 4, 5, 5],\n",
       " [8, 8, 7, 6, 5, 4, 5],\n",
       " [9, 9, 8, 7, 6, 5, 4]]"
      ]
     },
     "execution_count": 305,
     "metadata": {},
     "output_type": "execute_result"
    }
   ],
   "source": [
    "minimum_edit_distance('microsoft', 'ncsoft')"
   ]
  },
  {
   "cell_type": "code",
   "execution_count": null,
   "metadata": {},
   "outputs": [],
   "source": []
  }
 ],
 "metadata": {
  "kernelspec": {
   "display_name": "Python 3",
   "language": "python",
   "name": "python3"
  },
  "language_info": {
   "codemirror_mode": {
    "name": "ipython",
    "version": 3
   },
   "file_extension": ".py",
   "mimetype": "text/x-python",
   "name": "python",
   "nbconvert_exporter": "python",
   "pygments_lexer": "ipython3",
   "version": "3.7.2"
  }
 },
 "nbformat": 4,
 "nbformat_minor": 2
}
