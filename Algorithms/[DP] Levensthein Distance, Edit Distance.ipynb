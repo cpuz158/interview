{
 "cells": [
  {
   "cell_type": "code",
   "execution_count": 135,
   "metadata": {},
   "outputs": [],
   "source": [
    "def edit_distance(a, b):\n",
    "    a = ' ' + a\n",
    "    b = ' ' + b\n",
    "    \n",
    "    # d = A [][] matrix for calculating edit distance between two words (a, b)\n",
    "    d = [[None for j in range(len(b))] for i in range(len(a))]\n",
    "    for i in range(len(a)):\n",
    "        d[i][0] = i\n",
    "    for j in range(len(b)):\n",
    "        d[0][j] = j\n",
    "    \n",
    "    for i in range(1, len(a)):\n",
    "        for j in range(1, len(b)):\n",
    "            if a[i] == b[j]:\n",
    "                d[i][j] = d[i-1][j-1]\n",
    "            else:\n",
    "                d[i][j] = min(d[i-1][j-1], d[i][j-1], d[i-1][j]) + 1\n",
    "    \n",
    "    print(f'Minimum Edit Distance : {d[len(a)-1][len(b)-1]}')\n",
    "    \n",
    "    return d"
   ]
  },
  {
   "cell_type": "code",
   "execution_count": null,
   "metadata": {},
   "outputs": [],
   "source": [
    "a = 'THERE WAS A MAN NAMED Emily'\n",
    "b = 'THERE WAS A WOMAN NAMED Abraham'\n",
    "d = edit_distance(a, b)"
   ]
  },
  {
   "cell_type": "code",
   "execution_count": 82,
   "metadata": {},
   "outputs": [
    {
     "name": "stdout",
     "output_type": "stream",
     "text": [
      "Minimum Edit Distance : 4\n"
     ]
    }
   ],
   "source": [
    "d = edit_distance('APPLE', 'GOOGLE')"
   ]
  },
  {
   "cell_type": "code",
   "execution_count": 149,
   "metadata": {},
   "outputs": [
    {
     "name": "stdout",
     "output_type": "stream",
     "text": [
      "Minimum Edit Distance : 6\n"
     ]
    }
   ],
   "source": [
    "d = edit_distance('ANDROID', 'IOS')"
   ]
  },
  {
   "cell_type": "code",
   "execution_count": 150,
   "metadata": {},
   "outputs": [
    {
     "name": "stdout",
     "output_type": "stream",
     "text": [
      "0, 1, 2, 3\n",
      "1, 1, 2, 3\n",
      "2, 2, 2, 3\n",
      "3, 3, 3, 3\n",
      "4, 4, 4, 4\n",
      "5, 5, 4, 5\n",
      "6, 5, 5, 5\n",
      "7, 6, 6, 6\n"
     ]
    }
   ],
   "source": [
    "for x in d:\n",
    "    y = ['{0:0{1}d}'.format(v, len(str(max(x)))) for v in x]\n",
    "    print(*y, sep=', ')"
   ]
  },
  {
   "cell_type": "code",
   "execution_count": 151,
   "metadata": {},
   "outputs": [
    {
     "name": "stdout",
     "output_type": "stream",
     "text": [
      "0, 1, 2, 3\n",
      "1, 1, 2, 3\n",
      "2, 2, 2, 3\n",
      "3, 3, 3, 3\n",
      "4, 4, 4, 4\n",
      "5, 5, 4, 5\n",
      "6, 5, 5, 5\n",
      "7, 6, 6, 6\n"
     ]
    }
   ],
   "source": [
    "for x in d:\n",
    "    print(*x, sep=', ')"
   ]
  },
  {
   "cell_type": "code",
   "execution_count": null,
   "metadata": {},
   "outputs": [],
   "source": []
  }
 ],
 "metadata": {
  "kernelspec": {
   "display_name": "Python 3",
   "language": "python",
   "name": "python3"
  },
  "language_info": {
   "codemirror_mode": {
    "name": "ipython",
    "version": 3
   },
   "file_extension": ".py",
   "mimetype": "text/x-python",
   "name": "python",
   "nbconvert_exporter": "python",
   "pygments_lexer": "ipython3",
   "version": "3.7.3"
  }
 },
 "nbformat": 4,
 "nbformat_minor": 2
}
