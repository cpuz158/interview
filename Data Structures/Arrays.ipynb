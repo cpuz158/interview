{
 "cells": [
  {
   "cell_type": "markdown",
   "metadata": {},
   "source": [
    "Arrays\n",
    "--\n",
    "- Implement a vector (mutable array with automatic resizing):\n",
    "- Practice coding using arrays and pointers, and pointer math to jump to an index instead of using indexing.\n",
    "- new raw data array with allocated memory\n",
    "- can allocate int array under the hood, just not use its features\n",
    "- start with 16, or if starting number is greater, use power of 2 - 16, 32, 64, 128\n",
    "  - size() - number of items\n",
    "  - capacity() - number of items it can hold\n",
    "  - is_empty()\n",
    "  - at(index) - returns item at given index, blows up if index out of bounds\n",
    "  - push(item)\n",
    "  - insert(index, item) - inserts item at index, shifts that index's value and trailing elements to the right\n",
    "  - prepend(item) - can use insert above at index 0\n",
    "  - pop() - remove from end, return value\n",
    "  - delete(index) - delete item at index, shifting all trailing elements left\n",
    "  - remove(item) - looks for value and removes index holding it (even if in multiple places)\n",
    "  - find(item) - looks for value and returns first index with that value, -1 if not found\n",
    "  - resize(new_capacity) // private function\n",
    "    - when you reach capacity, resize to double the size\n",
    "    - when popping an item, if size is 1/4 of capacity, resize to half"
   ]
  },
  {
   "cell_type": "code",
   "execution_count": 53,
   "metadata": {},
   "outputs": [],
   "source": [
    "class Array:\n",
    "    def __init__(self):\n",
    "        self.arr = []\n",
    "    \n",
    "    def size(self):\n",
    "        return len(self.arr)\n",
    "    \n",
    "    def capacity(self):\n",
    "        raise Exception('This is not implemented')\n",
    "    \n",
    "    def at(self, index):\n",
    "        return self.arr[index]\n",
    "    \n",
    "    def push(self, item):\n",
    "        self.arr.append(item)\n",
    "    \n",
    "    def insert(self, index, item):\n",
    "        self.arr.insert(index, item)\n",
    "    \n",
    "    def prepend(self, item):\n",
    "        self.arr.insert(0, item)\n",
    "    \n",
    "    def pop(self):\n",
    "        return self.arr.pop(-1)\n",
    "    \n",
    "    def delete(self, index):\n",
    "        self.arr.remove(self.arr[index])\n",
    "    \n",
    "    def remove(self, item):\n",
    "        self.arr.remove(item)\n",
    "    \n",
    "    def find(self, item):\n",
    "        return self.arr.index(item)\n",
    "    \n",
    "    def resize(self, new_capacity):\n",
    "        raise Exception('This is not implemented')\n",
    "    \n",
    "    def get_iter(self):\n",
    "        return iter(self.arr)"
   ]
  },
  {
   "cell_type": "code",
   "execution_count": 56,
   "metadata": {},
   "outputs": [
    {
     "name": "stdout",
     "output_type": "stream",
     "text": [
      "200, 100, 10, 20, 30, 40, 50\n"
     ]
    }
   ],
   "source": [
    "arr = Array()\n",
    "arr.push(10)\n",
    "arr.push(20)\n",
    "arr.push(30)\n",
    "arr.push(40)\n",
    "arr.push(50)\n",
    "arr.insert(0, 100)\n",
    "arr.prepend(200)\n",
    "print(*arr.get_iter(), sep=', ')"
   ]
  },
  {
   "cell_type": "code",
   "execution_count": null,
   "metadata": {},
   "outputs": [],
   "source": []
  },
  {
   "cell_type": "code",
   "execution_count": null,
   "metadata": {},
   "outputs": [],
   "source": []
  }
 ],
 "metadata": {
  "kernelspec": {
   "display_name": "Python 3",
   "language": "python",
   "name": "python3"
  },
  "language_info": {
   "codemirror_mode": {
    "name": "ipython",
    "version": 3
   },
   "file_extension": ".py",
   "mimetype": "text/x-python",
   "name": "python",
   "nbconvert_exporter": "python",
   "pygments_lexer": "ipython3",
   "version": "3.7.3"
  }
 },
 "nbformat": 4,
 "nbformat_minor": 2
}
